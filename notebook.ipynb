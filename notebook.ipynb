{
 "cells": [
  {
   "cell_type": "markdown",
   "metadata": {},
   "source": [
    "# 📊 Analyse NBA depuis 1950\n",
    "Projet Data Science - De la Donnée à la Décision"
   ]
  },
  {
   "cell_type": "markdown",
   "metadata": {},
   "source": [
    "## 1. 📥 Acquisition des Données"
   ]
  },
  {
   "cell_type": "code",
   "execution_count": 1,
   "id": "c7099640",
   "metadata": {},
   "outputs": [
    {
     "name": "stdout",
     "output_type": "stream",
     "text": [
      "Defaulting to user installation because normal site-packages is not writeable\n",
      "Requirement already satisfied: pandas in c:\\users\\afitenudaeklou\\appdata\\local\\packages\\pythonsoftwarefoundation.python.3.12_qbz5n2kfra8p0\\localcache\\local-packages\\python312\\site-packages (from -r requirements.txt (line 1)) (2.2.3)\n",
      "Requirement already satisfied: numpy in c:\\users\\afitenudaeklou\\appdata\\local\\packages\\pythonsoftwarefoundation.python.3.12_qbz5n2kfra8p0\\localcache\\local-packages\\python312\\site-packages (from -r requirements.txt (line 2)) (2.2.5)\n",
      "Requirement already satisfied: matplotlib in c:\\users\\afitenudaeklou\\appdata\\local\\packages\\pythonsoftwarefoundation.python.3.12_qbz5n2kfra8p0\\localcache\\local-packages\\python312\\site-packages (from -r requirements.txt (line 3)) (3.9.2)\n",
      "Requirement already satisfied: seaborn in c:\\users\\afitenudaeklou\\appdata\\local\\packages\\pythonsoftwarefoundation.python.3.12_qbz5n2kfra8p0\\localcache\\local-packages\\python312\\site-packages (from -r requirements.txt (line 4)) (0.13.2)\n",
      "Requirement already satisfied: plotly in c:\\users\\afitenudaeklou\\appdata\\local\\packages\\pythonsoftwarefoundation.python.3.12_qbz5n2kfra8p0\\localcache\\local-packages\\python312\\site-packages (from -r requirements.txt (line 5)) (5.24.1)\n",
      "Requirement already satisfied: scikit-learn in c:\\users\\afitenudaeklou\\appdata\\local\\packages\\pythonsoftwarefoundation.python.3.12_qbz5n2kfra8p0\\localcache\\local-packages\\python312\\site-packages (from -r requirements.txt (line 6)) (1.7.0)\n",
      "Requirement already satisfied: streamlit in c:\\users\\afitenudaeklou\\appdata\\local\\packages\\pythonsoftwarefoundation.python.3.12_qbz5n2kfra8p0\\localcache\\local-packages\\python312\\site-packages (from -r requirements.txt (line 7)) (1.45.1)\n",
      "Requirement already satisfied: nbformat>=4.2.0 in c:\\users\\afitenudaeklou\\appdata\\local\\packages\\pythonsoftwarefoundation.python.3.12_qbz5n2kfra8p0\\localcache\\local-packages\\python312\\site-packages (from -r requirements.txt (line 8)) (5.10.4)\n",
      "Requirement already satisfied: python-dateutil>=2.8.2 in c:\\users\\afitenudaeklou\\appdata\\local\\packages\\pythonsoftwarefoundation.python.3.12_qbz5n2kfra8p0\\localcache\\local-packages\\python312\\site-packages (from pandas->-r requirements.txt (line 1)) (2.9.0.post0)\n",
      "Requirement already satisfied: pytz>=2020.1 in c:\\users\\afitenudaeklou\\appdata\\local\\packages\\pythonsoftwarefoundation.python.3.12_qbz5n2kfra8p0\\localcache\\local-packages\\python312\\site-packages (from pandas->-r requirements.txt (line 1)) (2024.2)\n",
      "Requirement already satisfied: tzdata>=2022.7 in c:\\users\\afitenudaeklou\\appdata\\local\\packages\\pythonsoftwarefoundation.python.3.12_qbz5n2kfra8p0\\localcache\\local-packages\\python312\\site-packages (from pandas->-r requirements.txt (line 1)) (2024.2)\n",
      "Requirement already satisfied: contourpy>=1.0.1 in c:\\users\\afitenudaeklou\\appdata\\local\\packages\\pythonsoftwarefoundation.python.3.12_qbz5n2kfra8p0\\localcache\\local-packages\\python312\\site-packages (from matplotlib->-r requirements.txt (line 3)) (1.3.0)\n",
      "Requirement already satisfied: cycler>=0.10 in c:\\users\\afitenudaeklou\\appdata\\local\\packages\\pythonsoftwarefoundation.python.3.12_qbz5n2kfra8p0\\localcache\\local-packages\\python312\\site-packages (from matplotlib->-r requirements.txt (line 3)) (0.12.1)\n",
      "Requirement already satisfied: fonttools>=4.22.0 in c:\\users\\afitenudaeklou\\appdata\\local\\packages\\pythonsoftwarefoundation.python.3.12_qbz5n2kfra8p0\\localcache\\local-packages\\python312\\site-packages (from matplotlib->-r requirements.txt (line 3)) (4.54.1)\n",
      "Requirement already satisfied: kiwisolver>=1.3.1 in c:\\users\\afitenudaeklou\\appdata\\local\\packages\\pythonsoftwarefoundation.python.3.12_qbz5n2kfra8p0\\localcache\\local-packages\\python312\\site-packages (from matplotlib->-r requirements.txt (line 3)) (1.4.7)\n",
      "Requirement already satisfied: packaging>=20.0 in c:\\users\\afitenudaeklou\\appdata\\local\\packages\\pythonsoftwarefoundation.python.3.12_qbz5n2kfra8p0\\localcache\\local-packages\\python312\\site-packages (from matplotlib->-r requirements.txt (line 3)) (24.1)\n",
      "Requirement already satisfied: pillow>=8 in c:\\users\\afitenudaeklou\\appdata\\local\\packages\\pythonsoftwarefoundation.python.3.12_qbz5n2kfra8p0\\localcache\\local-packages\\python312\\site-packages (from matplotlib->-r requirements.txt (line 3)) (10.4.0)\n",
      "Requirement already satisfied: pyparsing>=2.3.1 in c:\\users\\afitenudaeklou\\appdata\\local\\packages\\pythonsoftwarefoundation.python.3.12_qbz5n2kfra8p0\\localcache\\local-packages\\python312\\site-packages (from matplotlib->-r requirements.txt (line 3)) (3.1.4)\n",
      "Requirement already satisfied: tenacity>=6.2.0 in c:\\users\\afitenudaeklou\\appdata\\local\\packages\\pythonsoftwarefoundation.python.3.12_qbz5n2kfra8p0\\localcache\\local-packages\\python312\\site-packages (from plotly->-r requirements.txt (line 5)) (9.0.0)\n",
      "Requirement already satisfied: scipy>=1.8.0 in c:\\users\\afitenudaeklou\\appdata\\local\\packages\\pythonsoftwarefoundation.python.3.12_qbz5n2kfra8p0\\localcache\\local-packages\\python312\\site-packages (from scikit-learn->-r requirements.txt (line 6)) (1.15.3)\n",
      "Requirement already satisfied: joblib>=1.2.0 in c:\\users\\afitenudaeklou\\appdata\\local\\packages\\pythonsoftwarefoundation.python.3.12_qbz5n2kfra8p0\\localcache\\local-packages\\python312\\site-packages (from scikit-learn->-r requirements.txt (line 6)) (1.5.1)\n",
      "Requirement already satisfied: threadpoolctl>=3.1.0 in c:\\users\\afitenudaeklou\\appdata\\local\\packages\\pythonsoftwarefoundation.python.3.12_qbz5n2kfra8p0\\localcache\\local-packages\\python312\\site-packages (from scikit-learn->-r requirements.txt (line 6)) (3.6.0)\n",
      "Requirement already satisfied: altair<6,>=4.0 in c:\\users\\afitenudaeklou\\appdata\\local\\packages\\pythonsoftwarefoundation.python.3.12_qbz5n2kfra8p0\\localcache\\local-packages\\python312\\site-packages (from streamlit->-r requirements.txt (line 7)) (5.5.0)\n",
      "Requirement already satisfied: blinker<2,>=1.5.0 in c:\\users\\afitenudaeklou\\appdata\\local\\packages\\pythonsoftwarefoundation.python.3.12_qbz5n2kfra8p0\\localcache\\local-packages\\python312\\site-packages (from streamlit->-r requirements.txt (line 7)) (1.8.2)\n",
      "Requirement already satisfied: cachetools<6,>=4.0 in c:\\users\\afitenudaeklou\\appdata\\local\\packages\\pythonsoftwarefoundation.python.3.12_qbz5n2kfra8p0\\localcache\\local-packages\\python312\\site-packages (from streamlit->-r requirements.txt (line 7)) (5.5.2)\n",
      "Requirement already satisfied: click<9,>=7.0 in c:\\users\\afitenudaeklou\\appdata\\local\\packages\\pythonsoftwarefoundation.python.3.12_qbz5n2kfra8p0\\localcache\\local-packages\\python312\\site-packages (from streamlit->-r requirements.txt (line 7)) (8.1.7)\n",
      "Requirement already satisfied: protobuf<7,>=3.20 in c:\\users\\afitenudaeklou\\appdata\\local\\packages\\pythonsoftwarefoundation.python.3.12_qbz5n2kfra8p0\\localcache\\local-packages\\python312\\site-packages (from streamlit->-r requirements.txt (line 7)) (6.30.2)\n",
      "Requirement already satisfied: pyarrow>=7.0 in c:\\users\\afitenudaeklou\\appdata\\local\\packages\\pythonsoftwarefoundation.python.3.12_qbz5n2kfra8p0\\localcache\\local-packages\\python312\\site-packages (from streamlit->-r requirements.txt (line 7)) (20.0.0)\n",
      "Requirement already satisfied: requests<3,>=2.27 in c:\\users\\afitenudaeklou\\appdata\\local\\packages\\pythonsoftwarefoundation.python.3.12_qbz5n2kfra8p0\\localcache\\local-packages\\python312\\site-packages (from streamlit->-r requirements.txt (line 7)) (2.32.3)\n",
      "Requirement already satisfied: toml<2,>=0.10.1 in c:\\users\\afitenudaeklou\\appdata\\local\\packages\\pythonsoftwarefoundation.python.3.12_qbz5n2kfra8p0\\localcache\\local-packages\\python312\\site-packages (from streamlit->-r requirements.txt (line 7)) (0.10.2)\n",
      "Requirement already satisfied: typing-extensions<5,>=4.4.0 in c:\\users\\afitenudaeklou\\appdata\\local\\packages\\pythonsoftwarefoundation.python.3.12_qbz5n2kfra8p0\\localcache\\local-packages\\python312\\site-packages (from streamlit->-r requirements.txt (line 7)) (4.12.2)\n",
      "Requirement already satisfied: watchdog<7,>=2.1.5 in c:\\users\\afitenudaeklou\\appdata\\local\\packages\\pythonsoftwarefoundation.python.3.12_qbz5n2kfra8p0\\localcache\\local-packages\\python312\\site-packages (from streamlit->-r requirements.txt (line 7)) (6.0.0)\n",
      "Requirement already satisfied: gitpython!=3.1.19,<4,>=3.0.7 in c:\\users\\afitenudaeklou\\appdata\\local\\packages\\pythonsoftwarefoundation.python.3.12_qbz5n2kfra8p0\\localcache\\local-packages\\python312\\site-packages (from streamlit->-r requirements.txt (line 7)) (3.1.44)\n",
      "Requirement already satisfied: pydeck<1,>=0.8.0b4 in c:\\users\\afitenudaeklou\\appdata\\local\\packages\\pythonsoftwarefoundation.python.3.12_qbz5n2kfra8p0\\localcache\\local-packages\\python312\\site-packages (from streamlit->-r requirements.txt (line 7)) (0.9.1)\n",
      "Requirement already satisfied: tornado<7,>=6.0.3 in c:\\users\\afitenudaeklou\\appdata\\local\\packages\\pythonsoftwarefoundation.python.3.12_qbz5n2kfra8p0\\localcache\\local-packages\\python312\\site-packages (from streamlit->-r requirements.txt (line 7)) (6.5.1)\n",
      "Requirement already satisfied: fastjsonschema>=2.15 in c:\\users\\afitenudaeklou\\appdata\\local\\packages\\pythonsoftwarefoundation.python.3.12_qbz5n2kfra8p0\\localcache\\local-packages\\python312\\site-packages (from nbformat>=4.2.0->-r requirements.txt (line 8)) (2.21.1)\n",
      "Requirement already satisfied: jsonschema>=2.6 in c:\\users\\afitenudaeklou\\appdata\\local\\packages\\pythonsoftwarefoundation.python.3.12_qbz5n2kfra8p0\\localcache\\local-packages\\python312\\site-packages (from nbformat>=4.2.0->-r requirements.txt (line 8)) (4.24.0)\n",
      "Requirement already satisfied: jupyter-core!=5.0.*,>=4.12 in c:\\users\\afitenudaeklou\\appdata\\local\\packages\\pythonsoftwarefoundation.python.3.12_qbz5n2kfra8p0\\localcache\\local-packages\\python312\\site-packages (from nbformat>=4.2.0->-r requirements.txt (line 8)) (5.8.1)\n",
      "Requirement already satisfied: traitlets>=5.1 in c:\\users\\afitenudaeklou\\appdata\\local\\packages\\pythonsoftwarefoundation.python.3.12_qbz5n2kfra8p0\\localcache\\local-packages\\python312\\site-packages (from nbformat>=4.2.0->-r requirements.txt (line 8)) (5.14.3)\n",
      "Requirement already satisfied: jinja2 in c:\\users\\afitenudaeklou\\appdata\\local\\packages\\pythonsoftwarefoundation.python.3.12_qbz5n2kfra8p0\\localcache\\local-packages\\python312\\site-packages (from altair<6,>=4.0->streamlit->-r requirements.txt (line 7)) (3.1.4)\n",
      "Requirement already satisfied: narwhals>=1.14.2 in c:\\users\\afitenudaeklou\\appdata\\local\\packages\\pythonsoftwarefoundation.python.3.12_qbz5n2kfra8p0\\localcache\\local-packages\\python312\\site-packages (from altair<6,>=4.0->streamlit->-r requirements.txt (line 7)) (1.42.1)\n",
      "Requirement already satisfied: colorama in c:\\users\\afitenudaeklou\\appdata\\local\\packages\\pythonsoftwarefoundation.python.3.12_qbz5n2kfra8p0\\localcache\\local-packages\\python312\\site-packages (from click<9,>=7.0->streamlit->-r requirements.txt (line 7)) (0.4.6)\n",
      "Requirement already satisfied: gitdb<5,>=4.0.1 in c:\\users\\afitenudaeklou\\appdata\\local\\packages\\pythonsoftwarefoundation.python.3.12_qbz5n2kfra8p0\\localcache\\local-packages\\python312\\site-packages (from gitpython!=3.1.19,<4,>=3.0.7->streamlit->-r requirements.txt (line 7)) (4.0.12)\n",
      "Requirement already satisfied: attrs>=22.2.0 in c:\\users\\afitenudaeklou\\appdata\\local\\packages\\pythonsoftwarefoundation.python.3.12_qbz5n2kfra8p0\\localcache\\local-packages\\python312\\site-packages (from jsonschema>=2.6->nbformat>=4.2.0->-r requirements.txt (line 8)) (25.3.0)\n",
      "Requirement already satisfied: jsonschema-specifications>=2023.03.6 in c:\\users\\afitenudaeklou\\appdata\\local\\packages\\pythonsoftwarefoundation.python.3.12_qbz5n2kfra8p0\\localcache\\local-packages\\python312\\site-packages (from jsonschema>=2.6->nbformat>=4.2.0->-r requirements.txt (line 8)) (2025.4.1)\n",
      "Requirement already satisfied: referencing>=0.28.4 in c:\\users\\afitenudaeklou\\appdata\\local\\packages\\pythonsoftwarefoundation.python.3.12_qbz5n2kfra8p0\\localcache\\local-packages\\python312\\site-packages (from jsonschema>=2.6->nbformat>=4.2.0->-r requirements.txt (line 8)) (0.36.2)\n",
      "Requirement already satisfied: rpds-py>=0.7.1 in c:\\users\\afitenudaeklou\\appdata\\local\\packages\\pythonsoftwarefoundation.python.3.12_qbz5n2kfra8p0\\localcache\\local-packages\\python312\\site-packages (from jsonschema>=2.6->nbformat>=4.2.0->-r requirements.txt (line 8)) (0.25.1)\n",
      "Requirement already satisfied: platformdirs>=2.5 in c:\\users\\afitenudaeklou\\appdata\\local\\packages\\pythonsoftwarefoundation.python.3.12_qbz5n2kfra8p0\\localcache\\local-packages\\python312\\site-packages (from jupyter-core!=5.0.*,>=4.12->nbformat>=4.2.0->-r requirements.txt (line 8)) (4.3.8)\n",
      "Requirement already satisfied: pywin32>=300 in c:\\users\\afitenudaeklou\\appdata\\local\\packages\\pythonsoftwarefoundation.python.3.12_qbz5n2kfra8p0\\localcache\\local-packages\\python312\\site-packages (from jupyter-core!=5.0.*,>=4.12->nbformat>=4.2.0->-r requirements.txt (line 8)) (310)\n",
      "Requirement already satisfied: six>=1.5 in c:\\users\\afitenudaeklou\\appdata\\local\\packages\\pythonsoftwarefoundation.python.3.12_qbz5n2kfra8p0\\localcache\\local-packages\\python312\\site-packages (from python-dateutil>=2.8.2->pandas->-r requirements.txt (line 1)) (1.16.0)\n",
      "Requirement already satisfied: charset-normalizer<4,>=2 in c:\\users\\afitenudaeklou\\appdata\\local\\packages\\pythonsoftwarefoundation.python.3.12_qbz5n2kfra8p0\\localcache\\local-packages\\python312\\site-packages (from requests<3,>=2.27->streamlit->-r requirements.txt (line 7)) (3.4.0)\n",
      "Requirement already satisfied: idna<4,>=2.5 in c:\\users\\afitenudaeklou\\appdata\\local\\packages\\pythonsoftwarefoundation.python.3.12_qbz5n2kfra8p0\\localcache\\local-packages\\python312\\site-packages (from requests<3,>=2.27->streamlit->-r requirements.txt (line 7)) (3.10)\n",
      "Requirement already satisfied: urllib3<3,>=1.21.1 in c:\\users\\afitenudaeklou\\appdata\\local\\packages\\pythonsoftwarefoundation.python.3.12_qbz5n2kfra8p0\\localcache\\local-packages\\python312\\site-packages (from requests<3,>=2.27->streamlit->-r requirements.txt (line 7)) (2.2.3)\n",
      "Requirement already satisfied: certifi>=2017.4.17 in c:\\users\\afitenudaeklou\\appdata\\local\\packages\\pythonsoftwarefoundation.python.3.12_qbz5n2kfra8p0\\localcache\\local-packages\\python312\\site-packages (from requests<3,>=2.27->streamlit->-r requirements.txt (line 7)) (2024.8.30)\n",
      "Requirement already satisfied: smmap<6,>=3.0.1 in c:\\users\\afitenudaeklou\\appdata\\local\\packages\\pythonsoftwarefoundation.python.3.12_qbz5n2kfra8p0\\localcache\\local-packages\\python312\\site-packages (from gitdb<5,>=4.0.1->gitpython!=3.1.19,<4,>=3.0.7->streamlit->-r requirements.txt (line 7)) (5.0.2)\n",
      "Requirement already satisfied: MarkupSafe>=2.0 in c:\\users\\afitenudaeklou\\appdata\\local\\packages\\pythonsoftwarefoundation.python.3.12_qbz5n2kfra8p0\\localcache\\local-packages\\python312\\site-packages (from jinja2->altair<6,>=4.0->streamlit->-r requirements.txt (line 7)) (3.0.2)\n"
     ]
    },
    {
     "name": "stderr",
     "output_type": "stream",
     "text": [
      "\n",
      "[notice] A new release of pip is available: 25.0.1 -> 25.1.1\n",
      "[notice] To update, run: C:\\Users\\afitenudaeklou\\AppData\\Local\\Microsoft\\WindowsApps\\PythonSoftwareFoundation.Python.3.12_qbz5n2kfra8p0\\python.exe -m pip install --upgrade pip\n"
     ]
    }
   ],
   "source": [
    "! pip install -r requirements.txt\n"
   ]
  },
  {
   "cell_type": "code",
   "execution_count": 2,
   "metadata": {},
   "outputs": [],
   "source": [
    "import pandas as pd\n",
    "import matplotlib.pyplot as plt\n",
    "import seaborn as sns\n",
    "import plotly.express as px\n",
    "from sklearn.model_selection import train_test_split\n",
    "from sklearn.linear_model import LinearRegression\n",
    "from sklearn.metrics import r2_score, mean_squared_error\n",
    "\n",
    "seasons = pd.read_csv('data/Seasons_Stats.csv')\n",
    "players = pd.read_csv('data/Players.csv')"
   ]
  },
  {
   "cell_type": "markdown",
   "metadata": {},
   "source": [
    "## 2. 🧼 Nettoyage et Préparation"
   ]
  },
  {
   "cell_type": "code",
   "execution_count": 3,
   "id": "521e066c",
   "metadata": {},
   "outputs": [],
   "source": [
    "# Suppression des colonnes inutiles\n",
    "seasons = seasons.drop(columns=['blanl', 'blank2'], errors='ignore')\n",
    "\n",
    "# Suppression des lignes sans année ou joueur\n",
    "seasons = seasons.dropna(subset=['Year', 'Player'])\n",
    "\n",
    "# Conversion de l'année en entier\n",
    "seasons['Year'] = seasons['Year'].astype(int)\n",
    "\n",
    "# Calcul des points par match\n",
    "seasons['PTS_per_game'] = seasons['PTS'] / seasons['G']\n",
    "\n",
    "# Création de la colonne décennie (Era)\n",
    "seasons['Era'] = (seasons['Year'] // 10) * 10\n",
    "\n",
    "# Fusion avec le fichier Players pour ajouter height/weight/etc.\n",
    "players = players.drop(columns=['Unnamed: 0'], errors='ignore')\n",
    "df = pd.merge(seasons, players, on=\"Player\", how=\"left\")\n"
   ]
  },
  {
   "cell_type": "markdown",
   "metadata": {},
   "source": [
    "## 3. 🔍 Analyse exploratoire et visualisation\n"
   ]
  },
  {
   "cell_type": "code",
   "execution_count": 4,
   "id": "74fbf603",
   "metadata": {},
   "outputs": [
    {
     "name": "stdout",
     "output_type": "stream",
     "text": [
      "Defaulting to user installation because normal site-packages is not writeable\n",
      "Requirement already satisfied: nbformat in c:\\users\\afitenudaeklou\\appdata\\local\\packages\\pythonsoftwarefoundation.python.3.12_qbz5n2kfra8p0\\localcache\\local-packages\\python312\\site-packages (5.10.4)\n",
      "Requirement already satisfied: fastjsonschema>=2.15 in c:\\users\\afitenudaeklou\\appdata\\local\\packages\\pythonsoftwarefoundation.python.3.12_qbz5n2kfra8p0\\localcache\\local-packages\\python312\\site-packages (from nbformat) (2.21.1)\n",
      "Requirement already satisfied: jsonschema>=2.6 in c:\\users\\afitenudaeklou\\appdata\\local\\packages\\pythonsoftwarefoundation.python.3.12_qbz5n2kfra8p0\\localcache\\local-packages\\python312\\site-packages (from nbformat) (4.24.0)\n",
      "Requirement already satisfied: jupyter-core!=5.0.*,>=4.12 in c:\\users\\afitenudaeklou\\appdata\\local\\packages\\pythonsoftwarefoundation.python.3.12_qbz5n2kfra8p0\\localcache\\local-packages\\python312\\site-packages (from nbformat) (5.8.1)\n",
      "Requirement already satisfied: traitlets>=5.1 in c:\\users\\afitenudaeklou\\appdata\\local\\packages\\pythonsoftwarefoundation.python.3.12_qbz5n2kfra8p0\\localcache\\local-packages\\python312\\site-packages (from nbformat) (5.14.3)\n",
      "Requirement already satisfied: attrs>=22.2.0 in c:\\users\\afitenudaeklou\\appdata\\local\\packages\\pythonsoftwarefoundation.python.3.12_qbz5n2kfra8p0\\localcache\\local-packages\\python312\\site-packages (from jsonschema>=2.6->nbformat) (25.3.0)\n",
      "Requirement already satisfied: jsonschema-specifications>=2023.03.6 in c:\\users\\afitenudaeklou\\appdata\\local\\packages\\pythonsoftwarefoundation.python.3.12_qbz5n2kfra8p0\\localcache\\local-packages\\python312\\site-packages (from jsonschema>=2.6->nbformat) (2025.4.1)\n",
      "Requirement already satisfied: referencing>=0.28.4 in c:\\users\\afitenudaeklou\\appdata\\local\\packages\\pythonsoftwarefoundation.python.3.12_qbz5n2kfra8p0\\localcache\\local-packages\\python312\\site-packages (from jsonschema>=2.6->nbformat) (0.36.2)\n",
      "Requirement already satisfied: rpds-py>=0.7.1 in c:\\users\\afitenudaeklou\\appdata\\local\\packages\\pythonsoftwarefoundation.python.3.12_qbz5n2kfra8p0\\localcache\\local-packages\\python312\\site-packages (from jsonschema>=2.6->nbformat) (0.25.1)\n",
      "Requirement already satisfied: platformdirs>=2.5 in c:\\users\\afitenudaeklou\\appdata\\local\\packages\\pythonsoftwarefoundation.python.3.12_qbz5n2kfra8p0\\localcache\\local-packages\\python312\\site-packages (from jupyter-core!=5.0.*,>=4.12->nbformat) (4.3.8)\n",
      "Requirement already satisfied: pywin32>=300 in c:\\users\\afitenudaeklou\\appdata\\local\\packages\\pythonsoftwarefoundation.python.3.12_qbz5n2kfra8p0\\localcache\\local-packages\\python312\\site-packages (from jupyter-core!=5.0.*,>=4.12->nbformat) (310)\n",
      "Requirement already satisfied: typing-extensions>=4.4.0 in c:\\users\\afitenudaeklou\\appdata\\local\\packages\\pythonsoftwarefoundation.python.3.12_qbz5n2kfra8p0\\localcache\\local-packages\\python312\\site-packages (from referencing>=0.28.4->jsonschema>=2.6->nbformat) (4.12.2)\n"
     ]
    },
    {
     "name": "stderr",
     "output_type": "stream",
     "text": [
      "\n",
      "[notice] A new release of pip is available: 25.0.1 -> 25.1.1\n",
      "[notice] To update, run: C:\\Users\\afitenudaeklou\\AppData\\Local\\Microsoft\\WindowsApps\\PythonSoftwareFoundation.Python.3.12_qbz5n2kfra8p0\\python.exe -m pip install --upgrade pip\n"
     ]
    }
   ],
   "source": [
    "! pip install nbformat --upgrade\n"
   ]
  },
  {
   "cell_type": "markdown",
   "id": "6104ac2d",
   "metadata": {},
   "source": [
    "## Moyenne des points par décennie"
   ]
  },
  {
   "cell_type": "code",
   "execution_count": 5,
   "id": "28677637",
   "metadata": {},
   "outputs": [
    {
     "data": {
      "application/vnd.plotly.v1+json": {
       "config": {
        "plotlyServerURL": "https://plot.ly"
       },
       "data": [
        {
         "alignmentgroup": "True",
         "hovertemplate": "Era=%{x}<br>PTS_per_game=%{y}<extra></extra>",
         "legendgroup": "",
         "marker": {
          "color": "#636efa",
          "pattern": {
           "shape": ""
          }
         },
         "name": "",
         "offsetgroup": "",
         "orientation": "v",
         "showlegend": false,
         "textposition": "auto",
         "type": "bar",
         "x": [
          1950,
          1960,
          1970,
          1980,
          1990,
          2000,
          2010
         ],
         "xaxis": "x",
         "y": [
          7.829131050420445,
          10.223898908192284,
          9.338701532866821,
          8.880812679054342,
          8.001783881548189,
          7.7169291844395955,
          7.806432221110611
         ],
         "yaxis": "y"
        }
       ],
       "layout": {
        "barmode": "relative",
        "legend": {
         "tracegroupgap": 0
        },
        "template": {
         "data": {
          "bar": [
           {
            "error_x": {
             "color": "#2a3f5f"
            },
            "error_y": {
             "color": "#2a3f5f"
            },
            "marker": {
             "line": {
              "color": "#E5ECF6",
              "width": 0.5
             },
             "pattern": {
              "fillmode": "overlay",
              "size": 10,
              "solidity": 0.2
             }
            },
            "type": "bar"
           }
          ],
          "barpolar": [
           {
            "marker": {
             "line": {
              "color": "#E5ECF6",
              "width": 0.5
             },
             "pattern": {
              "fillmode": "overlay",
              "size": 10,
              "solidity": 0.2
             }
            },
            "type": "barpolar"
           }
          ],
          "carpet": [
           {
            "aaxis": {
             "endlinecolor": "#2a3f5f",
             "gridcolor": "white",
             "linecolor": "white",
             "minorgridcolor": "white",
             "startlinecolor": "#2a3f5f"
            },
            "baxis": {
             "endlinecolor": "#2a3f5f",
             "gridcolor": "white",
             "linecolor": "white",
             "minorgridcolor": "white",
             "startlinecolor": "#2a3f5f"
            },
            "type": "carpet"
           }
          ],
          "choropleth": [
           {
            "colorbar": {
             "outlinewidth": 0,
             "ticks": ""
            },
            "type": "choropleth"
           }
          ],
          "contour": [
           {
            "colorbar": {
             "outlinewidth": 0,
             "ticks": ""
            },
            "colorscale": [
             [
              0,
              "#0d0887"
             ],
             [
              0.1111111111111111,
              "#46039f"
             ],
             [
              0.2222222222222222,
              "#7201a8"
             ],
             [
              0.3333333333333333,
              "#9c179e"
             ],
             [
              0.4444444444444444,
              "#bd3786"
             ],
             [
              0.5555555555555556,
              "#d8576b"
             ],
             [
              0.6666666666666666,
              "#ed7953"
             ],
             [
              0.7777777777777778,
              "#fb9f3a"
             ],
             [
              0.8888888888888888,
              "#fdca26"
             ],
             [
              1,
              "#f0f921"
             ]
            ],
            "type": "contour"
           }
          ],
          "contourcarpet": [
           {
            "colorbar": {
             "outlinewidth": 0,
             "ticks": ""
            },
            "type": "contourcarpet"
           }
          ],
          "heatmap": [
           {
            "colorbar": {
             "outlinewidth": 0,
             "ticks": ""
            },
            "colorscale": [
             [
              0,
              "#0d0887"
             ],
             [
              0.1111111111111111,
              "#46039f"
             ],
             [
              0.2222222222222222,
              "#7201a8"
             ],
             [
              0.3333333333333333,
              "#9c179e"
             ],
             [
              0.4444444444444444,
              "#bd3786"
             ],
             [
              0.5555555555555556,
              "#d8576b"
             ],
             [
              0.6666666666666666,
              "#ed7953"
             ],
             [
              0.7777777777777778,
              "#fb9f3a"
             ],
             [
              0.8888888888888888,
              "#fdca26"
             ],
             [
              1,
              "#f0f921"
             ]
            ],
            "type": "heatmap"
           }
          ],
          "heatmapgl": [
           {
            "colorbar": {
             "outlinewidth": 0,
             "ticks": ""
            },
            "colorscale": [
             [
              0,
              "#0d0887"
             ],
             [
              0.1111111111111111,
              "#46039f"
             ],
             [
              0.2222222222222222,
              "#7201a8"
             ],
             [
              0.3333333333333333,
              "#9c179e"
             ],
             [
              0.4444444444444444,
              "#bd3786"
             ],
             [
              0.5555555555555556,
              "#d8576b"
             ],
             [
              0.6666666666666666,
              "#ed7953"
             ],
             [
              0.7777777777777778,
              "#fb9f3a"
             ],
             [
              0.8888888888888888,
              "#fdca26"
             ],
             [
              1,
              "#f0f921"
             ]
            ],
            "type": "heatmapgl"
           }
          ],
          "histogram": [
           {
            "marker": {
             "pattern": {
              "fillmode": "overlay",
              "size": 10,
              "solidity": 0.2
             }
            },
            "type": "histogram"
           }
          ],
          "histogram2d": [
           {
            "colorbar": {
             "outlinewidth": 0,
             "ticks": ""
            },
            "colorscale": [
             [
              0,
              "#0d0887"
             ],
             [
              0.1111111111111111,
              "#46039f"
             ],
             [
              0.2222222222222222,
              "#7201a8"
             ],
             [
              0.3333333333333333,
              "#9c179e"
             ],
             [
              0.4444444444444444,
              "#bd3786"
             ],
             [
              0.5555555555555556,
              "#d8576b"
             ],
             [
              0.6666666666666666,
              "#ed7953"
             ],
             [
              0.7777777777777778,
              "#fb9f3a"
             ],
             [
              0.8888888888888888,
              "#fdca26"
             ],
             [
              1,
              "#f0f921"
             ]
            ],
            "type": "histogram2d"
           }
          ],
          "histogram2dcontour": [
           {
            "colorbar": {
             "outlinewidth": 0,
             "ticks": ""
            },
            "colorscale": [
             [
              0,
              "#0d0887"
             ],
             [
              0.1111111111111111,
              "#46039f"
             ],
             [
              0.2222222222222222,
              "#7201a8"
             ],
             [
              0.3333333333333333,
              "#9c179e"
             ],
             [
              0.4444444444444444,
              "#bd3786"
             ],
             [
              0.5555555555555556,
              "#d8576b"
             ],
             [
              0.6666666666666666,
              "#ed7953"
             ],
             [
              0.7777777777777778,
              "#fb9f3a"
             ],
             [
              0.8888888888888888,
              "#fdca26"
             ],
             [
              1,
              "#f0f921"
             ]
            ],
            "type": "histogram2dcontour"
           }
          ],
          "mesh3d": [
           {
            "colorbar": {
             "outlinewidth": 0,
             "ticks": ""
            },
            "type": "mesh3d"
           }
          ],
          "parcoords": [
           {
            "line": {
             "colorbar": {
              "outlinewidth": 0,
              "ticks": ""
             }
            },
            "type": "parcoords"
           }
          ],
          "pie": [
           {
            "automargin": true,
            "type": "pie"
           }
          ],
          "scatter": [
           {
            "fillpattern": {
             "fillmode": "overlay",
             "size": 10,
             "solidity": 0.2
            },
            "type": "scatter"
           }
          ],
          "scatter3d": [
           {
            "line": {
             "colorbar": {
              "outlinewidth": 0,
              "ticks": ""
             }
            },
            "marker": {
             "colorbar": {
              "outlinewidth": 0,
              "ticks": ""
             }
            },
            "type": "scatter3d"
           }
          ],
          "scattercarpet": [
           {
            "marker": {
             "colorbar": {
              "outlinewidth": 0,
              "ticks": ""
             }
            },
            "type": "scattercarpet"
           }
          ],
          "scattergeo": [
           {
            "marker": {
             "colorbar": {
              "outlinewidth": 0,
              "ticks": ""
             }
            },
            "type": "scattergeo"
           }
          ],
          "scattergl": [
           {
            "marker": {
             "colorbar": {
              "outlinewidth": 0,
              "ticks": ""
             }
            },
            "type": "scattergl"
           }
          ],
          "scattermapbox": [
           {
            "marker": {
             "colorbar": {
              "outlinewidth": 0,
              "ticks": ""
             }
            },
            "type": "scattermapbox"
           }
          ],
          "scatterpolar": [
           {
            "marker": {
             "colorbar": {
              "outlinewidth": 0,
              "ticks": ""
             }
            },
            "type": "scatterpolar"
           }
          ],
          "scatterpolargl": [
           {
            "marker": {
             "colorbar": {
              "outlinewidth": 0,
              "ticks": ""
             }
            },
            "type": "scatterpolargl"
           }
          ],
          "scatterternary": [
           {
            "marker": {
             "colorbar": {
              "outlinewidth": 0,
              "ticks": ""
             }
            },
            "type": "scatterternary"
           }
          ],
          "surface": [
           {
            "colorbar": {
             "outlinewidth": 0,
             "ticks": ""
            },
            "colorscale": [
             [
              0,
              "#0d0887"
             ],
             [
              0.1111111111111111,
              "#46039f"
             ],
             [
              0.2222222222222222,
              "#7201a8"
             ],
             [
              0.3333333333333333,
              "#9c179e"
             ],
             [
              0.4444444444444444,
              "#bd3786"
             ],
             [
              0.5555555555555556,
              "#d8576b"
             ],
             [
              0.6666666666666666,
              "#ed7953"
             ],
             [
              0.7777777777777778,
              "#fb9f3a"
             ],
             [
              0.8888888888888888,
              "#fdca26"
             ],
             [
              1,
              "#f0f921"
             ]
            ],
            "type": "surface"
           }
          ],
          "table": [
           {
            "cells": {
             "fill": {
              "color": "#EBF0F8"
             },
             "line": {
              "color": "white"
             }
            },
            "header": {
             "fill": {
              "color": "#C8D4E3"
             },
             "line": {
              "color": "white"
             }
            },
            "type": "table"
           }
          ]
         },
         "layout": {
          "annotationdefaults": {
           "arrowcolor": "#2a3f5f",
           "arrowhead": 0,
           "arrowwidth": 1
          },
          "autotypenumbers": "strict",
          "coloraxis": {
           "colorbar": {
            "outlinewidth": 0,
            "ticks": ""
           }
          },
          "colorscale": {
           "diverging": [
            [
             0,
             "#8e0152"
            ],
            [
             0.1,
             "#c51b7d"
            ],
            [
             0.2,
             "#de77ae"
            ],
            [
             0.3,
             "#f1b6da"
            ],
            [
             0.4,
             "#fde0ef"
            ],
            [
             0.5,
             "#f7f7f7"
            ],
            [
             0.6,
             "#e6f5d0"
            ],
            [
             0.7,
             "#b8e186"
            ],
            [
             0.8,
             "#7fbc41"
            ],
            [
             0.9,
             "#4d9221"
            ],
            [
             1,
             "#276419"
            ]
           ],
           "sequential": [
            [
             0,
             "#0d0887"
            ],
            [
             0.1111111111111111,
             "#46039f"
            ],
            [
             0.2222222222222222,
             "#7201a8"
            ],
            [
             0.3333333333333333,
             "#9c179e"
            ],
            [
             0.4444444444444444,
             "#bd3786"
            ],
            [
             0.5555555555555556,
             "#d8576b"
            ],
            [
             0.6666666666666666,
             "#ed7953"
            ],
            [
             0.7777777777777778,
             "#fb9f3a"
            ],
            [
             0.8888888888888888,
             "#fdca26"
            ],
            [
             1,
             "#f0f921"
            ]
           ],
           "sequentialminus": [
            [
             0,
             "#0d0887"
            ],
            [
             0.1111111111111111,
             "#46039f"
            ],
            [
             0.2222222222222222,
             "#7201a8"
            ],
            [
             0.3333333333333333,
             "#9c179e"
            ],
            [
             0.4444444444444444,
             "#bd3786"
            ],
            [
             0.5555555555555556,
             "#d8576b"
            ],
            [
             0.6666666666666666,
             "#ed7953"
            ],
            [
             0.7777777777777778,
             "#fb9f3a"
            ],
            [
             0.8888888888888888,
             "#fdca26"
            ],
            [
             1,
             "#f0f921"
            ]
           ]
          },
          "colorway": [
           "#636efa",
           "#EF553B",
           "#00cc96",
           "#ab63fa",
           "#FFA15A",
           "#19d3f3",
           "#FF6692",
           "#B6E880",
           "#FF97FF",
           "#FECB52"
          ],
          "font": {
           "color": "#2a3f5f"
          },
          "geo": {
           "bgcolor": "white",
           "lakecolor": "white",
           "landcolor": "#E5ECF6",
           "showlakes": true,
           "showland": true,
           "subunitcolor": "white"
          },
          "hoverlabel": {
           "align": "left"
          },
          "hovermode": "closest",
          "mapbox": {
           "style": "light"
          },
          "paper_bgcolor": "white",
          "plot_bgcolor": "#E5ECF6",
          "polar": {
           "angularaxis": {
            "gridcolor": "white",
            "linecolor": "white",
            "ticks": ""
           },
           "bgcolor": "#E5ECF6",
           "radialaxis": {
            "gridcolor": "white",
            "linecolor": "white",
            "ticks": ""
           }
          },
          "scene": {
           "xaxis": {
            "backgroundcolor": "#E5ECF6",
            "gridcolor": "white",
            "gridwidth": 2,
            "linecolor": "white",
            "showbackground": true,
            "ticks": "",
            "zerolinecolor": "white"
           },
           "yaxis": {
            "backgroundcolor": "#E5ECF6",
            "gridcolor": "white",
            "gridwidth": 2,
            "linecolor": "white",
            "showbackground": true,
            "ticks": "",
            "zerolinecolor": "white"
           },
           "zaxis": {
            "backgroundcolor": "#E5ECF6",
            "gridcolor": "white",
            "gridwidth": 2,
            "linecolor": "white",
            "showbackground": true,
            "ticks": "",
            "zerolinecolor": "white"
           }
          },
          "shapedefaults": {
           "line": {
            "color": "#2a3f5f"
           }
          },
          "ternary": {
           "aaxis": {
            "gridcolor": "white",
            "linecolor": "white",
            "ticks": ""
           },
           "baxis": {
            "gridcolor": "white",
            "linecolor": "white",
            "ticks": ""
           },
           "bgcolor": "#E5ECF6",
           "caxis": {
            "gridcolor": "white",
            "linecolor": "white",
            "ticks": ""
           }
          },
          "title": {
           "x": 0.05
          },
          "xaxis": {
           "automargin": true,
           "gridcolor": "white",
           "linecolor": "white",
           "ticks": "",
           "title": {
            "standoff": 15
           },
           "zerolinecolor": "white",
           "zerolinewidth": 2
          },
          "yaxis": {
           "automargin": true,
           "gridcolor": "white",
           "linecolor": "white",
           "ticks": "",
           "title": {
            "standoff": 15
           },
           "zerolinecolor": "white",
           "zerolinewidth": 2
          }
         }
        },
        "title": {
         "text": "Évolution des points/match par décennie"
        },
        "xaxis": {
         "anchor": "y",
         "domain": [
          0,
          1
         ],
         "title": {
          "text": "Era"
         }
        },
        "yaxis": {
         "anchor": "x",
         "domain": [
          0,
          1
         ],
         "title": {
          "text": "PTS_per_game"
         }
        }
       }
      }
     },
     "metadata": {},
     "output_type": "display_data"
    }
   ],
   "source": [
    "# Moyenne des points par décennie\n",
    "era_pts = df.groupby('Era')['PTS_per_game'].mean().reset_index()\n",
    "fig = px.bar(era_pts, x='Era', y='PTS_per_game', title='Évolution des points/match par décennie')\n",
    "fig.show()\n"
   ]
  },
  {
   "cell_type": "markdown",
   "id": "8cb14afb",
   "metadata": {},
   "source": [
    "## Moyenne des points par poste"
   ]
  },
  {
   "cell_type": "code",
   "execution_count": 6,
   "id": "d2962bfd",
   "metadata": {},
   "outputs": [
    {
     "data": {
      "application/vnd.plotly.v1+json": {
       "config": {
        "plotlyServerURL": "https://plot.ly"
       },
       "data": [
        {
         "alignmentgroup": "True",
         "hovertemplate": "PTS_per_game=%{x}<br>Pos=%{y}<extra></extra>",
         "legendgroup": "",
         "marker": {
          "color": "#636efa",
          "pattern": {
           "shape": ""
          }
         },
         "name": "",
         "offsetgroup": "",
         "orientation": "h",
         "showlegend": false,
         "textposition": "auto",
         "type": "bar",
         "x": [
          15.484848484848484,
          14.413198835692063,
          9.174442466406074,
          9.063623165395454,
          8.785669095468942,
          8.355974480270286,
          8.093923934856026,
          8.025405811019699,
          7.451798241057805,
          7.433647320394316,
          7.295379791353783,
          7.144736842105263,
          6.550051776376259,
          6.217676760845327,
          6.147714299596715,
          6.088957641355816,
          6.026162657490812,
          5.996523449115042,
          5.870205471575709,
          5.10837933779295,
          4.441601840544129,
          4.329331306990881,
          3.0776905751726003
         ],
         "xaxis": "x",
         "y": [
          "PG-SF",
          "SG-PF",
          "SG",
          "SF",
          "SF-SG",
          "PG",
          "PF",
          "PG-SG",
          "SF-PF",
          "SG-PG",
          "C",
          "SF-PG",
          "SG-SF",
          "C-F",
          "PF-SF",
          "G-F",
          "F-C",
          "PF-C",
          "C-PF",
          "F-G",
          "G",
          "C-SF",
          "F"
         ],
         "yaxis": "y"
        }
       ],
       "layout": {
        "barmode": "relative",
        "legend": {
         "tracegroupgap": 0
        },
        "template": {
         "data": {
          "bar": [
           {
            "error_x": {
             "color": "#2a3f5f"
            },
            "error_y": {
             "color": "#2a3f5f"
            },
            "marker": {
             "line": {
              "color": "#E5ECF6",
              "width": 0.5
             },
             "pattern": {
              "fillmode": "overlay",
              "size": 10,
              "solidity": 0.2
             }
            },
            "type": "bar"
           }
          ],
          "barpolar": [
           {
            "marker": {
             "line": {
              "color": "#E5ECF6",
              "width": 0.5
             },
             "pattern": {
              "fillmode": "overlay",
              "size": 10,
              "solidity": 0.2
             }
            },
            "type": "barpolar"
           }
          ],
          "carpet": [
           {
            "aaxis": {
             "endlinecolor": "#2a3f5f",
             "gridcolor": "white",
             "linecolor": "white",
             "minorgridcolor": "white",
             "startlinecolor": "#2a3f5f"
            },
            "baxis": {
             "endlinecolor": "#2a3f5f",
             "gridcolor": "white",
             "linecolor": "white",
             "minorgridcolor": "white",
             "startlinecolor": "#2a3f5f"
            },
            "type": "carpet"
           }
          ],
          "choropleth": [
           {
            "colorbar": {
             "outlinewidth": 0,
             "ticks": ""
            },
            "type": "choropleth"
           }
          ],
          "contour": [
           {
            "colorbar": {
             "outlinewidth": 0,
             "ticks": ""
            },
            "colorscale": [
             [
              0,
              "#0d0887"
             ],
             [
              0.1111111111111111,
              "#46039f"
             ],
             [
              0.2222222222222222,
              "#7201a8"
             ],
             [
              0.3333333333333333,
              "#9c179e"
             ],
             [
              0.4444444444444444,
              "#bd3786"
             ],
             [
              0.5555555555555556,
              "#d8576b"
             ],
             [
              0.6666666666666666,
              "#ed7953"
             ],
             [
              0.7777777777777778,
              "#fb9f3a"
             ],
             [
              0.8888888888888888,
              "#fdca26"
             ],
             [
              1,
              "#f0f921"
             ]
            ],
            "type": "contour"
           }
          ],
          "contourcarpet": [
           {
            "colorbar": {
             "outlinewidth": 0,
             "ticks": ""
            },
            "type": "contourcarpet"
           }
          ],
          "heatmap": [
           {
            "colorbar": {
             "outlinewidth": 0,
             "ticks": ""
            },
            "colorscale": [
             [
              0,
              "#0d0887"
             ],
             [
              0.1111111111111111,
              "#46039f"
             ],
             [
              0.2222222222222222,
              "#7201a8"
             ],
             [
              0.3333333333333333,
              "#9c179e"
             ],
             [
              0.4444444444444444,
              "#bd3786"
             ],
             [
              0.5555555555555556,
              "#d8576b"
             ],
             [
              0.6666666666666666,
              "#ed7953"
             ],
             [
              0.7777777777777778,
              "#fb9f3a"
             ],
             [
              0.8888888888888888,
              "#fdca26"
             ],
             [
              1,
              "#f0f921"
             ]
            ],
            "type": "heatmap"
           }
          ],
          "heatmapgl": [
           {
            "colorbar": {
             "outlinewidth": 0,
             "ticks": ""
            },
            "colorscale": [
             [
              0,
              "#0d0887"
             ],
             [
              0.1111111111111111,
              "#46039f"
             ],
             [
              0.2222222222222222,
              "#7201a8"
             ],
             [
              0.3333333333333333,
              "#9c179e"
             ],
             [
              0.4444444444444444,
              "#bd3786"
             ],
             [
              0.5555555555555556,
              "#d8576b"
             ],
             [
              0.6666666666666666,
              "#ed7953"
             ],
             [
              0.7777777777777778,
              "#fb9f3a"
             ],
             [
              0.8888888888888888,
              "#fdca26"
             ],
             [
              1,
              "#f0f921"
             ]
            ],
            "type": "heatmapgl"
           }
          ],
          "histogram": [
           {
            "marker": {
             "pattern": {
              "fillmode": "overlay",
              "size": 10,
              "solidity": 0.2
             }
            },
            "type": "histogram"
           }
          ],
          "histogram2d": [
           {
            "colorbar": {
             "outlinewidth": 0,
             "ticks": ""
            },
            "colorscale": [
             [
              0,
              "#0d0887"
             ],
             [
              0.1111111111111111,
              "#46039f"
             ],
             [
              0.2222222222222222,
              "#7201a8"
             ],
             [
              0.3333333333333333,
              "#9c179e"
             ],
             [
              0.4444444444444444,
              "#bd3786"
             ],
             [
              0.5555555555555556,
              "#d8576b"
             ],
             [
              0.6666666666666666,
              "#ed7953"
             ],
             [
              0.7777777777777778,
              "#fb9f3a"
             ],
             [
              0.8888888888888888,
              "#fdca26"
             ],
             [
              1,
              "#f0f921"
             ]
            ],
            "type": "histogram2d"
           }
          ],
          "histogram2dcontour": [
           {
            "colorbar": {
             "outlinewidth": 0,
             "ticks": ""
            },
            "colorscale": [
             [
              0,
              "#0d0887"
             ],
             [
              0.1111111111111111,
              "#46039f"
             ],
             [
              0.2222222222222222,
              "#7201a8"
             ],
             [
              0.3333333333333333,
              "#9c179e"
             ],
             [
              0.4444444444444444,
              "#bd3786"
             ],
             [
              0.5555555555555556,
              "#d8576b"
             ],
             [
              0.6666666666666666,
              "#ed7953"
             ],
             [
              0.7777777777777778,
              "#fb9f3a"
             ],
             [
              0.8888888888888888,
              "#fdca26"
             ],
             [
              1,
              "#f0f921"
             ]
            ],
            "type": "histogram2dcontour"
           }
          ],
          "mesh3d": [
           {
            "colorbar": {
             "outlinewidth": 0,
             "ticks": ""
            },
            "type": "mesh3d"
           }
          ],
          "parcoords": [
           {
            "line": {
             "colorbar": {
              "outlinewidth": 0,
              "ticks": ""
             }
            },
            "type": "parcoords"
           }
          ],
          "pie": [
           {
            "automargin": true,
            "type": "pie"
           }
          ],
          "scatter": [
           {
            "fillpattern": {
             "fillmode": "overlay",
             "size": 10,
             "solidity": 0.2
            },
            "type": "scatter"
           }
          ],
          "scatter3d": [
           {
            "line": {
             "colorbar": {
              "outlinewidth": 0,
              "ticks": ""
             }
            },
            "marker": {
             "colorbar": {
              "outlinewidth": 0,
              "ticks": ""
             }
            },
            "type": "scatter3d"
           }
          ],
          "scattercarpet": [
           {
            "marker": {
             "colorbar": {
              "outlinewidth": 0,
              "ticks": ""
             }
            },
            "type": "scattercarpet"
           }
          ],
          "scattergeo": [
           {
            "marker": {
             "colorbar": {
              "outlinewidth": 0,
              "ticks": ""
             }
            },
            "type": "scattergeo"
           }
          ],
          "scattergl": [
           {
            "marker": {
             "colorbar": {
              "outlinewidth": 0,
              "ticks": ""
             }
            },
            "type": "scattergl"
           }
          ],
          "scattermapbox": [
           {
            "marker": {
             "colorbar": {
              "outlinewidth": 0,
              "ticks": ""
             }
            },
            "type": "scattermapbox"
           }
          ],
          "scatterpolar": [
           {
            "marker": {
             "colorbar": {
              "outlinewidth": 0,
              "ticks": ""
             }
            },
            "type": "scatterpolar"
           }
          ],
          "scatterpolargl": [
           {
            "marker": {
             "colorbar": {
              "outlinewidth": 0,
              "ticks": ""
             }
            },
            "type": "scatterpolargl"
           }
          ],
          "scatterternary": [
           {
            "marker": {
             "colorbar": {
              "outlinewidth": 0,
              "ticks": ""
             }
            },
            "type": "scatterternary"
           }
          ],
          "surface": [
           {
            "colorbar": {
             "outlinewidth": 0,
             "ticks": ""
            },
            "colorscale": [
             [
              0,
              "#0d0887"
             ],
             [
              0.1111111111111111,
              "#46039f"
             ],
             [
              0.2222222222222222,
              "#7201a8"
             ],
             [
              0.3333333333333333,
              "#9c179e"
             ],
             [
              0.4444444444444444,
              "#bd3786"
             ],
             [
              0.5555555555555556,
              "#d8576b"
             ],
             [
              0.6666666666666666,
              "#ed7953"
             ],
             [
              0.7777777777777778,
              "#fb9f3a"
             ],
             [
              0.8888888888888888,
              "#fdca26"
             ],
             [
              1,
              "#f0f921"
             ]
            ],
            "type": "surface"
           }
          ],
          "table": [
           {
            "cells": {
             "fill": {
              "color": "#EBF0F8"
             },
             "line": {
              "color": "white"
             }
            },
            "header": {
             "fill": {
              "color": "#C8D4E3"
             },
             "line": {
              "color": "white"
             }
            },
            "type": "table"
           }
          ]
         },
         "layout": {
          "annotationdefaults": {
           "arrowcolor": "#2a3f5f",
           "arrowhead": 0,
           "arrowwidth": 1
          },
          "autotypenumbers": "strict",
          "coloraxis": {
           "colorbar": {
            "outlinewidth": 0,
            "ticks": ""
           }
          },
          "colorscale": {
           "diverging": [
            [
             0,
             "#8e0152"
            ],
            [
             0.1,
             "#c51b7d"
            ],
            [
             0.2,
             "#de77ae"
            ],
            [
             0.3,
             "#f1b6da"
            ],
            [
             0.4,
             "#fde0ef"
            ],
            [
             0.5,
             "#f7f7f7"
            ],
            [
             0.6,
             "#e6f5d0"
            ],
            [
             0.7,
             "#b8e186"
            ],
            [
             0.8,
             "#7fbc41"
            ],
            [
             0.9,
             "#4d9221"
            ],
            [
             1,
             "#276419"
            ]
           ],
           "sequential": [
            [
             0,
             "#0d0887"
            ],
            [
             0.1111111111111111,
             "#46039f"
            ],
            [
             0.2222222222222222,
             "#7201a8"
            ],
            [
             0.3333333333333333,
             "#9c179e"
            ],
            [
             0.4444444444444444,
             "#bd3786"
            ],
            [
             0.5555555555555556,
             "#d8576b"
            ],
            [
             0.6666666666666666,
             "#ed7953"
            ],
            [
             0.7777777777777778,
             "#fb9f3a"
            ],
            [
             0.8888888888888888,
             "#fdca26"
            ],
            [
             1,
             "#f0f921"
            ]
           ],
           "sequentialminus": [
            [
             0,
             "#0d0887"
            ],
            [
             0.1111111111111111,
             "#46039f"
            ],
            [
             0.2222222222222222,
             "#7201a8"
            ],
            [
             0.3333333333333333,
             "#9c179e"
            ],
            [
             0.4444444444444444,
             "#bd3786"
            ],
            [
             0.5555555555555556,
             "#d8576b"
            ],
            [
             0.6666666666666666,
             "#ed7953"
            ],
            [
             0.7777777777777778,
             "#fb9f3a"
            ],
            [
             0.8888888888888888,
             "#fdca26"
            ],
            [
             1,
             "#f0f921"
            ]
           ]
          },
          "colorway": [
           "#636efa",
           "#EF553B",
           "#00cc96",
           "#ab63fa",
           "#FFA15A",
           "#19d3f3",
           "#FF6692",
           "#B6E880",
           "#FF97FF",
           "#FECB52"
          ],
          "font": {
           "color": "#2a3f5f"
          },
          "geo": {
           "bgcolor": "white",
           "lakecolor": "white",
           "landcolor": "#E5ECF6",
           "showlakes": true,
           "showland": true,
           "subunitcolor": "white"
          },
          "hoverlabel": {
           "align": "left"
          },
          "hovermode": "closest",
          "mapbox": {
           "style": "light"
          },
          "paper_bgcolor": "white",
          "plot_bgcolor": "#E5ECF6",
          "polar": {
           "angularaxis": {
            "gridcolor": "white",
            "linecolor": "white",
            "ticks": ""
           },
           "bgcolor": "#E5ECF6",
           "radialaxis": {
            "gridcolor": "white",
            "linecolor": "white",
            "ticks": ""
           }
          },
          "scene": {
           "xaxis": {
            "backgroundcolor": "#E5ECF6",
            "gridcolor": "white",
            "gridwidth": 2,
            "linecolor": "white",
            "showbackground": true,
            "ticks": "",
            "zerolinecolor": "white"
           },
           "yaxis": {
            "backgroundcolor": "#E5ECF6",
            "gridcolor": "white",
            "gridwidth": 2,
            "linecolor": "white",
            "showbackground": true,
            "ticks": "",
            "zerolinecolor": "white"
           },
           "zaxis": {
            "backgroundcolor": "#E5ECF6",
            "gridcolor": "white",
            "gridwidth": 2,
            "linecolor": "white",
            "showbackground": true,
            "ticks": "",
            "zerolinecolor": "white"
           }
          },
          "shapedefaults": {
           "line": {
            "color": "#2a3f5f"
           }
          },
          "ternary": {
           "aaxis": {
            "gridcolor": "white",
            "linecolor": "white",
            "ticks": ""
           },
           "baxis": {
            "gridcolor": "white",
            "linecolor": "white",
            "ticks": ""
           },
           "bgcolor": "#E5ECF6",
           "caxis": {
            "gridcolor": "white",
            "linecolor": "white",
            "ticks": ""
           }
          },
          "title": {
           "x": 0.05
          },
          "xaxis": {
           "automargin": true,
           "gridcolor": "white",
           "linecolor": "white",
           "ticks": "",
           "title": {
            "standoff": 15
           },
           "zerolinecolor": "white",
           "zerolinewidth": 2
          },
          "yaxis": {
           "automargin": true,
           "gridcolor": "white",
           "linecolor": "white",
           "ticks": "",
           "title": {
            "standoff": 15
           },
           "zerolinecolor": "white",
           "zerolinewidth": 2
          }
         }
        },
        "title": {
         "text": "Moyenne PTS par poste"
        },
        "xaxis": {
         "anchor": "y",
         "domain": [
          0,
          1
         ],
         "title": {
          "text": "PTS_per_game"
         }
        },
        "yaxis": {
         "anchor": "x",
         "domain": [
          0,
          1
         ],
         "title": {
          "text": "Pos"
         }
        }
       }
      }
     },
     "metadata": {},
     "output_type": "display_data"
    }
   ],
   "source": [
    "# Moyenne des points par poste\n",
    "pos_pts = df.groupby('Pos')['PTS_per_game'].mean().reset_index().sort_values(by='PTS_per_game', ascending=False)\n",
    "fig = px.bar(pos_pts, x='PTS_per_game', y='Pos', orientation='h', title='Moyenne PTS par poste')\n",
    "fig.show()\n"
   ]
  },
  {
   "cell_type": "markdown",
   "id": "196f1ff3",
   "metadata": {},
   "source": [
    "## 📈 Score moyen par saison NBA"
   ]
  },
  {
   "cell_type": "code",
   "execution_count": 9,
   "id": "6e19b3ae",
   "metadata": {},
   "outputs": [
    {
     "data": {
      "application/vnd.plotly.v1+json": {
       "config": {
        "plotlyServerURL": "https://plot.ly"
       },
       "data": [
        {
         "hovertemplate": "Year=%{x}<br>PTS_per_game=%{y}<extra></extra>",
         "legendgroup": "",
         "line": {
          "color": "#636efa",
          "dash": "solid"
         },
         "marker": {
          "symbol": "circle"
         },
         "mode": "lines",
         "name": "",
         "orientation": "v",
         "showlegend": false,
         "type": "scatter",
         "x": [
          1950,
          1951,
          1952,
          1953,
          1954,
          1955,
          1956,
          1957,
          1958,
          1959,
          1960,
          1961,
          1962,
          1963,
          1964,
          1965,
          1966,
          1967,
          1968,
          1969,
          1970,
          1971,
          1972,
          1973,
          1974,
          1975,
          1976,
          1977,
          1978,
          1979,
          1980,
          1981,
          1982,
          1983,
          1984,
          1985,
          1986,
          1987,
          1988,
          1989,
          1990,
          1991,
          1992,
          1993,
          1994,
          1995,
          1996,
          1997,
          1998,
          1999,
          2000,
          2001,
          2002,
          2003,
          2004,
          2005,
          2006,
          2007,
          2008,
          2009,
          2010,
          2011,
          2012,
          2013,
          2014,
          2015,
          2016,
          2017
         ],
         "xaxis": "x",
         "y": [
          6.603312753516261,
          7.259842911079559,
          7.943562246788918,
          7.322402976608677,
          7.03463793159751,
          8.146222525862537,
          8.943392916900105,
          9.000574639660078,
          9.117885494195793,
          9.926581448142898,
          10.099935449871923,
          10.477537597279293,
          10.565754780622026,
          9.87155779409906,
          9.684214152412602,
          9.887552033084274,
          10.313167544737821,
          10.692236418771932,
          10.318414871409919,
          10.313415579519306,
          10.620599452953003,
          9.511099281849463,
          9.715372856094394,
          8.99217025054179,
          9.208990259489275,
          9.082592881720803,
          8.64557809098251,
          9.161418938952613,
          9.301387425256042,
          9.522208855238798,
          9.65027965043387,
          8.965941984078231,
          9.11804599300906,
          8.848568548913505,
          8.831957944874437,
          8.788267861730844,
          8.792200106787517,
          8.791453563136796,
          8.603474039101568,
          8.548128549589611,
          8.41056574406409,
          8.891092281152307,
          8.09804161542203,
          8.29340556505843,
          7.965257282852498,
          8.389032067947092,
          7.977406586433511,
          7.47478247161527,
          7.6852733387022605,
          7.166692675760236,
          7.680505610723177,
          7.4179692679684175,
          7.873674784823608,
          7.7521442574033514,
          7.392706215782649,
          7.777114684390999,
          7.647949687223918,
          8.084763831877833,
          7.55081929986281,
          8.035753869396807,
          8.048225173476238,
          7.829512329598331,
          7.702501448601328,
          7.430189485634082,
          7.546175613914971,
          7.794814813415215,
          7.91072367568203,
          8.184534418543327
         ],
         "yaxis": "y"
        }
       ],
       "layout": {
        "legend": {
         "tracegroupgap": 0
        },
        "template": {
         "data": {
          "bar": [
           {
            "error_x": {
             "color": "#2a3f5f"
            },
            "error_y": {
             "color": "#2a3f5f"
            },
            "marker": {
             "line": {
              "color": "#E5ECF6",
              "width": 0.5
             },
             "pattern": {
              "fillmode": "overlay",
              "size": 10,
              "solidity": 0.2
             }
            },
            "type": "bar"
           }
          ],
          "barpolar": [
           {
            "marker": {
             "line": {
              "color": "#E5ECF6",
              "width": 0.5
             },
             "pattern": {
              "fillmode": "overlay",
              "size": 10,
              "solidity": 0.2
             }
            },
            "type": "barpolar"
           }
          ],
          "carpet": [
           {
            "aaxis": {
             "endlinecolor": "#2a3f5f",
             "gridcolor": "white",
             "linecolor": "white",
             "minorgridcolor": "white",
             "startlinecolor": "#2a3f5f"
            },
            "baxis": {
             "endlinecolor": "#2a3f5f",
             "gridcolor": "white",
             "linecolor": "white",
             "minorgridcolor": "white",
             "startlinecolor": "#2a3f5f"
            },
            "type": "carpet"
           }
          ],
          "choropleth": [
           {
            "colorbar": {
             "outlinewidth": 0,
             "ticks": ""
            },
            "type": "choropleth"
           }
          ],
          "contour": [
           {
            "colorbar": {
             "outlinewidth": 0,
             "ticks": ""
            },
            "colorscale": [
             [
              0,
              "#0d0887"
             ],
             [
              0.1111111111111111,
              "#46039f"
             ],
             [
              0.2222222222222222,
              "#7201a8"
             ],
             [
              0.3333333333333333,
              "#9c179e"
             ],
             [
              0.4444444444444444,
              "#bd3786"
             ],
             [
              0.5555555555555556,
              "#d8576b"
             ],
             [
              0.6666666666666666,
              "#ed7953"
             ],
             [
              0.7777777777777778,
              "#fb9f3a"
             ],
             [
              0.8888888888888888,
              "#fdca26"
             ],
             [
              1,
              "#f0f921"
             ]
            ],
            "type": "contour"
           }
          ],
          "contourcarpet": [
           {
            "colorbar": {
             "outlinewidth": 0,
             "ticks": ""
            },
            "type": "contourcarpet"
           }
          ],
          "heatmap": [
           {
            "colorbar": {
             "outlinewidth": 0,
             "ticks": ""
            },
            "colorscale": [
             [
              0,
              "#0d0887"
             ],
             [
              0.1111111111111111,
              "#46039f"
             ],
             [
              0.2222222222222222,
              "#7201a8"
             ],
             [
              0.3333333333333333,
              "#9c179e"
             ],
             [
              0.4444444444444444,
              "#bd3786"
             ],
             [
              0.5555555555555556,
              "#d8576b"
             ],
             [
              0.6666666666666666,
              "#ed7953"
             ],
             [
              0.7777777777777778,
              "#fb9f3a"
             ],
             [
              0.8888888888888888,
              "#fdca26"
             ],
             [
              1,
              "#f0f921"
             ]
            ],
            "type": "heatmap"
           }
          ],
          "heatmapgl": [
           {
            "colorbar": {
             "outlinewidth": 0,
             "ticks": ""
            },
            "colorscale": [
             [
              0,
              "#0d0887"
             ],
             [
              0.1111111111111111,
              "#46039f"
             ],
             [
              0.2222222222222222,
              "#7201a8"
             ],
             [
              0.3333333333333333,
              "#9c179e"
             ],
             [
              0.4444444444444444,
              "#bd3786"
             ],
             [
              0.5555555555555556,
              "#d8576b"
             ],
             [
              0.6666666666666666,
              "#ed7953"
             ],
             [
              0.7777777777777778,
              "#fb9f3a"
             ],
             [
              0.8888888888888888,
              "#fdca26"
             ],
             [
              1,
              "#f0f921"
             ]
            ],
            "type": "heatmapgl"
           }
          ],
          "histogram": [
           {
            "marker": {
             "pattern": {
              "fillmode": "overlay",
              "size": 10,
              "solidity": 0.2
             }
            },
            "type": "histogram"
           }
          ],
          "histogram2d": [
           {
            "colorbar": {
             "outlinewidth": 0,
             "ticks": ""
            },
            "colorscale": [
             [
              0,
              "#0d0887"
             ],
             [
              0.1111111111111111,
              "#46039f"
             ],
             [
              0.2222222222222222,
              "#7201a8"
             ],
             [
              0.3333333333333333,
              "#9c179e"
             ],
             [
              0.4444444444444444,
              "#bd3786"
             ],
             [
              0.5555555555555556,
              "#d8576b"
             ],
             [
              0.6666666666666666,
              "#ed7953"
             ],
             [
              0.7777777777777778,
              "#fb9f3a"
             ],
             [
              0.8888888888888888,
              "#fdca26"
             ],
             [
              1,
              "#f0f921"
             ]
            ],
            "type": "histogram2d"
           }
          ],
          "histogram2dcontour": [
           {
            "colorbar": {
             "outlinewidth": 0,
             "ticks": ""
            },
            "colorscale": [
             [
              0,
              "#0d0887"
             ],
             [
              0.1111111111111111,
              "#46039f"
             ],
             [
              0.2222222222222222,
              "#7201a8"
             ],
             [
              0.3333333333333333,
              "#9c179e"
             ],
             [
              0.4444444444444444,
              "#bd3786"
             ],
             [
              0.5555555555555556,
              "#d8576b"
             ],
             [
              0.6666666666666666,
              "#ed7953"
             ],
             [
              0.7777777777777778,
              "#fb9f3a"
             ],
             [
              0.8888888888888888,
              "#fdca26"
             ],
             [
              1,
              "#f0f921"
             ]
            ],
            "type": "histogram2dcontour"
           }
          ],
          "mesh3d": [
           {
            "colorbar": {
             "outlinewidth": 0,
             "ticks": ""
            },
            "type": "mesh3d"
           }
          ],
          "parcoords": [
           {
            "line": {
             "colorbar": {
              "outlinewidth": 0,
              "ticks": ""
             }
            },
            "type": "parcoords"
           }
          ],
          "pie": [
           {
            "automargin": true,
            "type": "pie"
           }
          ],
          "scatter": [
           {
            "fillpattern": {
             "fillmode": "overlay",
             "size": 10,
             "solidity": 0.2
            },
            "type": "scatter"
           }
          ],
          "scatter3d": [
           {
            "line": {
             "colorbar": {
              "outlinewidth": 0,
              "ticks": ""
             }
            },
            "marker": {
             "colorbar": {
              "outlinewidth": 0,
              "ticks": ""
             }
            },
            "type": "scatter3d"
           }
          ],
          "scattercarpet": [
           {
            "marker": {
             "colorbar": {
              "outlinewidth": 0,
              "ticks": ""
             }
            },
            "type": "scattercarpet"
           }
          ],
          "scattergeo": [
           {
            "marker": {
             "colorbar": {
              "outlinewidth": 0,
              "ticks": ""
             }
            },
            "type": "scattergeo"
           }
          ],
          "scattergl": [
           {
            "marker": {
             "colorbar": {
              "outlinewidth": 0,
              "ticks": ""
             }
            },
            "type": "scattergl"
           }
          ],
          "scattermapbox": [
           {
            "marker": {
             "colorbar": {
              "outlinewidth": 0,
              "ticks": ""
             }
            },
            "type": "scattermapbox"
           }
          ],
          "scatterpolar": [
           {
            "marker": {
             "colorbar": {
              "outlinewidth": 0,
              "ticks": ""
             }
            },
            "type": "scatterpolar"
           }
          ],
          "scatterpolargl": [
           {
            "marker": {
             "colorbar": {
              "outlinewidth": 0,
              "ticks": ""
             }
            },
            "type": "scatterpolargl"
           }
          ],
          "scatterternary": [
           {
            "marker": {
             "colorbar": {
              "outlinewidth": 0,
              "ticks": ""
             }
            },
            "type": "scatterternary"
           }
          ],
          "surface": [
           {
            "colorbar": {
             "outlinewidth": 0,
             "ticks": ""
            },
            "colorscale": [
             [
              0,
              "#0d0887"
             ],
             [
              0.1111111111111111,
              "#46039f"
             ],
             [
              0.2222222222222222,
              "#7201a8"
             ],
             [
              0.3333333333333333,
              "#9c179e"
             ],
             [
              0.4444444444444444,
              "#bd3786"
             ],
             [
              0.5555555555555556,
              "#d8576b"
             ],
             [
              0.6666666666666666,
              "#ed7953"
             ],
             [
              0.7777777777777778,
              "#fb9f3a"
             ],
             [
              0.8888888888888888,
              "#fdca26"
             ],
             [
              1,
              "#f0f921"
             ]
            ],
            "type": "surface"
           }
          ],
          "table": [
           {
            "cells": {
             "fill": {
              "color": "#EBF0F8"
             },
             "line": {
              "color": "white"
             }
            },
            "header": {
             "fill": {
              "color": "#C8D4E3"
             },
             "line": {
              "color": "white"
             }
            },
            "type": "table"
           }
          ]
         },
         "layout": {
          "annotationdefaults": {
           "arrowcolor": "#2a3f5f",
           "arrowhead": 0,
           "arrowwidth": 1
          },
          "autotypenumbers": "strict",
          "coloraxis": {
           "colorbar": {
            "outlinewidth": 0,
            "ticks": ""
           }
          },
          "colorscale": {
           "diverging": [
            [
             0,
             "#8e0152"
            ],
            [
             0.1,
             "#c51b7d"
            ],
            [
             0.2,
             "#de77ae"
            ],
            [
             0.3,
             "#f1b6da"
            ],
            [
             0.4,
             "#fde0ef"
            ],
            [
             0.5,
             "#f7f7f7"
            ],
            [
             0.6,
             "#e6f5d0"
            ],
            [
             0.7,
             "#b8e186"
            ],
            [
             0.8,
             "#7fbc41"
            ],
            [
             0.9,
             "#4d9221"
            ],
            [
             1,
             "#276419"
            ]
           ],
           "sequential": [
            [
             0,
             "#0d0887"
            ],
            [
             0.1111111111111111,
             "#46039f"
            ],
            [
             0.2222222222222222,
             "#7201a8"
            ],
            [
             0.3333333333333333,
             "#9c179e"
            ],
            [
             0.4444444444444444,
             "#bd3786"
            ],
            [
             0.5555555555555556,
             "#d8576b"
            ],
            [
             0.6666666666666666,
             "#ed7953"
            ],
            [
             0.7777777777777778,
             "#fb9f3a"
            ],
            [
             0.8888888888888888,
             "#fdca26"
            ],
            [
             1,
             "#f0f921"
            ]
           ],
           "sequentialminus": [
            [
             0,
             "#0d0887"
            ],
            [
             0.1111111111111111,
             "#46039f"
            ],
            [
             0.2222222222222222,
             "#7201a8"
            ],
            [
             0.3333333333333333,
             "#9c179e"
            ],
            [
             0.4444444444444444,
             "#bd3786"
            ],
            [
             0.5555555555555556,
             "#d8576b"
            ],
            [
             0.6666666666666666,
             "#ed7953"
            ],
            [
             0.7777777777777778,
             "#fb9f3a"
            ],
            [
             0.8888888888888888,
             "#fdca26"
            ],
            [
             1,
             "#f0f921"
            ]
           ]
          },
          "colorway": [
           "#636efa",
           "#EF553B",
           "#00cc96",
           "#ab63fa",
           "#FFA15A",
           "#19d3f3",
           "#FF6692",
           "#B6E880",
           "#FF97FF",
           "#FECB52"
          ],
          "font": {
           "color": "#2a3f5f"
          },
          "geo": {
           "bgcolor": "white",
           "lakecolor": "white",
           "landcolor": "#E5ECF6",
           "showlakes": true,
           "showland": true,
           "subunitcolor": "white"
          },
          "hoverlabel": {
           "align": "left"
          },
          "hovermode": "closest",
          "mapbox": {
           "style": "light"
          },
          "paper_bgcolor": "white",
          "plot_bgcolor": "#E5ECF6",
          "polar": {
           "angularaxis": {
            "gridcolor": "white",
            "linecolor": "white",
            "ticks": ""
           },
           "bgcolor": "#E5ECF6",
           "radialaxis": {
            "gridcolor": "white",
            "linecolor": "white",
            "ticks": ""
           }
          },
          "scene": {
           "xaxis": {
            "backgroundcolor": "#E5ECF6",
            "gridcolor": "white",
            "gridwidth": 2,
            "linecolor": "white",
            "showbackground": true,
            "ticks": "",
            "zerolinecolor": "white"
           },
           "yaxis": {
            "backgroundcolor": "#E5ECF6",
            "gridcolor": "white",
            "gridwidth": 2,
            "linecolor": "white",
            "showbackground": true,
            "ticks": "",
            "zerolinecolor": "white"
           },
           "zaxis": {
            "backgroundcolor": "#E5ECF6",
            "gridcolor": "white",
            "gridwidth": 2,
            "linecolor": "white",
            "showbackground": true,
            "ticks": "",
            "zerolinecolor": "white"
           }
          },
          "shapedefaults": {
           "line": {
            "color": "#2a3f5f"
           }
          },
          "ternary": {
           "aaxis": {
            "gridcolor": "white",
            "linecolor": "white",
            "ticks": ""
           },
           "baxis": {
            "gridcolor": "white",
            "linecolor": "white",
            "ticks": ""
           },
           "bgcolor": "#E5ECF6",
           "caxis": {
            "gridcolor": "white",
            "linecolor": "white",
            "ticks": ""
           }
          },
          "title": {
           "x": 0.05
          },
          "xaxis": {
           "automargin": true,
           "gridcolor": "white",
           "linecolor": "white",
           "ticks": "",
           "title": {
            "standoff": 15
           },
           "zerolinecolor": "white",
           "zerolinewidth": 2
          },
          "yaxis": {
           "automargin": true,
           "gridcolor": "white",
           "linecolor": "white",
           "ticks": "",
           "title": {
            "standoff": 15
           },
           "zerolinecolor": "white",
           "zerolinewidth": 2
          }
         }
        },
        "title": {
         "text": "Score moyen par saison NBA"
        },
        "xaxis": {
         "anchor": "y",
         "domain": [
          0,
          1
         ],
         "title": {
          "text": "Year"
         }
        },
        "yaxis": {
         "anchor": "x",
         "domain": [
          0,
          1
         ],
         "title": {
          "text": "PTS_per_game"
         }
        }
       }
      }
     },
     "metadata": {},
     "output_type": "display_data"
    }
   ],
   "source": [
    "pts_year = df.groupby('Year')['PTS_per_game'].mean().reset_index()\n",
    "import plotly.express as px\n",
    "px.line(pts_year, x='Year', y='PTS_per_game', title=\"Score moyen par saison NBA\")\n"
   ]
  },
  {
   "cell_type": "markdown",
   "id": "978baa2f",
   "metadata": {},
   "source": [
    "## ⏳ Durée moyenne de carrière NBA"
   ]
  },
  {
   "cell_type": "code",
   "execution_count": 10,
   "id": "fdc26a0a",
   "metadata": {},
   "outputs": [
    {
     "name": "stdout",
     "output_type": "stream",
     "text": [
      "Durée de carrière moyenne : 5.469173701713993\n"
     ]
    },
    {
     "data": {
      "application/vnd.plotly.v1+json": {
       "config": {
        "plotlyServerURL": "https://plot.ly"
       },
       "data": [
        {
         "alignmentgroup": "True",
         "bingroup": "x",
         "hovertemplate": "career_length=%{x}<br>count=%{y}<extra></extra>",
         "legendgroup": "",
         "marker": {
          "color": "#636efa",
          "pattern": {
           "shape": ""
          }
         },
         "name": "",
         "nbinsx": 20,
         "offsetgroup": "",
         "orientation": "v",
         "showlegend": false,
         "type": "histogram",
         "x": [
          16,
          1,
          2,
          3,
          1,
          6,
          1,
          1,
          10,
          3,
          7,
          2,
          5,
          13,
          1,
          1,
          15,
          2,
          4,
          4,
          1,
          9,
          4,
          12,
          6,
          1,
          3,
          4,
          9,
          15,
          9,
          10,
          11,
          10,
          4,
          1,
          4,
          4,
          8,
          1,
          1,
          2,
          16,
          2,
          10,
          1,
          13,
          2,
          1,
          2,
          4,
          4,
          4,
          6,
          7,
          5,
          12,
          2,
          12,
          3,
          1,
          2,
          3,
          11,
          6,
          4,
          1,
          6,
          1,
          4,
          1,
          1,
          15,
          2,
          2,
          8,
          1,
          4,
          1,
          1,
          1,
          8,
          2,
          3,
          3,
          9,
          4,
          1,
          10,
          12,
          1,
          4,
          14,
          10,
          1,
          1,
          3,
          8,
          16,
          2,
          3,
          17,
          13,
          1,
          1,
          12,
          8,
          1,
          10,
          8,
          14,
          12,
          13,
          2,
          9,
          4,
          3,
          1,
          5,
          8,
          13,
          5,
          17,
          1,
          3,
          4,
          2,
          6,
          2,
          10,
          1,
          14,
          2,
          8,
          12,
          9,
          10,
          6,
          5,
          1,
          12,
          4,
          5,
          8,
          3,
          10,
          2,
          4,
          1,
          1,
          9,
          1,
          6,
          1,
          15,
          4,
          16,
          8,
          4,
          6,
          10,
          2,
          13,
          6,
          5,
          4,
          11,
          1,
          13,
          4,
          14,
          11,
          9,
          15,
          13,
          1,
          6,
          4,
          7,
          1,
          9,
          1,
          16,
          1,
          12,
          6,
          1,
          2,
          14,
          13,
          10,
          6,
          16,
          1,
          10,
          4,
          4,
          2,
          4,
          13,
          2,
          8,
          2,
          2,
          4,
          9,
          5,
          10,
          2,
          1,
          4,
          3,
          3,
          1,
          4,
          7,
          12,
          1,
          1,
          8,
          2,
          1,
          3,
          10,
          12,
          6,
          5,
          7,
          16,
          4,
          2,
          11,
          1,
          12,
          6,
          13,
          11,
          1,
          1,
          1,
          1,
          1,
          1,
          6,
          1,
          2,
          3,
          1,
          1,
          8,
          4,
          1,
          11,
          2,
          1,
          1,
          4,
          4,
          10,
          2,
          16,
          5,
          1,
          13,
          15,
          3,
          16,
          3,
          5,
          1,
          2,
          1,
          2,
          1,
          4,
          1,
          10,
          13,
          1,
          6,
          16,
          1,
          3,
          7,
          5,
          1,
          1,
          6,
          4,
          10,
          1,
          1,
          7,
          4,
          1,
          14,
          1,
          3,
          1,
          3,
          2,
          1,
          1,
          7,
          13,
          11,
          1,
          1,
          2,
          3,
          6,
          13,
          15,
          9,
          1,
          11,
          1,
          2,
          7,
          9,
          8,
          10,
          9,
          4,
          1,
          4,
          6,
          14,
          11,
          2,
          6,
          8,
          1,
          1,
          8,
          5,
          7,
          10,
          3,
          1,
          3,
          1,
          15,
          1,
          1,
          1,
          1,
          4,
          11,
          6,
          1,
          2,
          1,
          2,
          3,
          4,
          20,
          13,
          6,
          1,
          1,
          4,
          3,
          3,
          1,
          1,
          10,
          2,
          8,
          9,
          5,
          9,
          1,
          4,
          5,
          7,
          1,
          1,
          14,
          4,
          1,
          11,
          2,
          14,
          9,
          2,
          1,
          1,
          7,
          3,
          11,
          4,
          1,
          4,
          1,
          1,
          8,
          1,
          2,
          1,
          10,
          11,
          1,
          1,
          4,
          12,
          1,
          7,
          2,
          1,
          1,
          2,
          9,
          5,
          1,
          5,
          12,
          4,
          9,
          2,
          11,
          3,
          8,
          2,
          1,
          4,
          3,
          3,
          1,
          10,
          2,
          14,
          1,
          6,
          2,
          2,
          8,
          15,
          3,
          11,
          14,
          7,
          2,
          5,
          3,
          10,
          1,
          1,
          3,
          12,
          2,
          2,
          1,
          8,
          6,
          7,
          9,
          6,
          1,
          14,
          3,
          14,
          10,
          1,
          1,
          1,
          12,
          12,
          9,
          1,
          3,
          12,
          1,
          2,
          1,
          8,
          3,
          5,
          3,
          11,
          15,
          14,
          6,
          9,
          2,
          1,
          2,
          9,
          7,
          4,
          13,
          1,
          1,
          2,
          1,
          3,
          3,
          7,
          4,
          6,
          10,
          2,
          1,
          6,
          1,
          13,
          1,
          1,
          7,
          17,
          7,
          1,
          1,
          2,
          1,
          2,
          7,
          5,
          1,
          1,
          10,
          6,
          1,
          1,
          2,
          1,
          1,
          2,
          4,
          4,
          5,
          14,
          3,
          4,
          12,
          10,
          3,
          3,
          5,
          2,
          13,
          14,
          10,
          4,
          13,
          11,
          2,
          2,
          11,
          3,
          1,
          1,
          13,
          1,
          8,
          1,
          9,
          1,
          3,
          2,
          7,
          1,
          10,
          13,
          2,
          9,
          8,
          3,
          3,
          14,
          14,
          1,
          7,
          6,
          1,
          1,
          12,
          1,
          1,
          11,
          16,
          1,
          1,
          1,
          11,
          3,
          2,
          2,
          1,
          1,
          6,
          12,
          16,
          3,
          1,
          9,
          7,
          2,
          7,
          17,
          2,
          19,
          4,
          11,
          18,
          1,
          1,
          10,
          3,
          8,
          3,
          3,
          1,
          1,
          4,
          9,
          1,
          5,
          11,
          11,
          1,
          7,
          1,
          17,
          1,
          1,
          2,
          9,
          13,
          2,
          1,
          5,
          1,
          1,
          1,
          16,
          3,
          1,
          13,
          6,
          9,
          4,
          3,
          7,
          7,
          16,
          9,
          6,
          10,
          4,
          11,
          1,
          2,
          1,
          2,
          4,
          6,
          13,
          6,
          1,
          2,
          3,
          9,
          10,
          11,
          16,
          1,
          1,
          12,
          1,
          7,
          3,
          2,
          3,
          22,
          1,
          2,
          15,
          3,
          11,
          11,
          3,
          2,
          13,
          2,
          1,
          1,
          6,
          2,
          1,
          11,
          2,
          1,
          12,
          7,
          1,
          14,
          9,
          5,
          2,
          1,
          11,
          13,
          1,
          2,
          13,
          5,
          1,
          3,
          1,
          2,
          3,
          2,
          9,
          10,
          1,
          2,
          1,
          4,
          3,
          10,
          13,
          5,
          3,
          13,
          1,
          2,
          10,
          18,
          4,
          3,
          1,
          8,
          1,
          5,
          2,
          15,
          10,
          11,
          2,
          7,
          3,
          4,
          7,
          2,
          13,
          7,
          5,
          1,
          7,
          4,
          5,
          10,
          4,
          7,
          14,
          2,
          11,
          8,
          3,
          12,
          1,
          7,
          1,
          1,
          10,
          1,
          1,
          2,
          2,
          6,
          1,
          1,
          3,
          1,
          9,
          2,
          1,
          2,
          1,
          14,
          10,
          3,
          1,
          2,
          6,
          1,
          2,
          2,
          2,
          2,
          1,
          8,
          8,
          11,
          2,
          1,
          9,
          1,
          1,
          1,
          6,
          4,
          6,
          14,
          5,
          16,
          17,
          1,
          10,
          1,
          3,
          2,
          1,
          5,
          1,
          9,
          4,
          1,
          3,
          11,
          13,
          4,
          2,
          6,
          10,
          2,
          9,
          1,
          4,
          14,
          1,
          6,
          11,
          1,
          1,
          15,
          2,
          2,
          7,
          1,
          3,
          5,
          9,
          14,
          1,
          13,
          3,
          10,
          10,
          8,
          15,
          18,
          7,
          1,
          11,
          8,
          3,
          1,
          1,
          1,
          2,
          9,
          3,
          4,
          8,
          1,
          10,
          4,
          3,
          2,
          10,
          12,
          1,
          14,
          9,
          1,
          11,
          1,
          10,
          8,
          5,
          1,
          2,
          14,
          3,
          2,
          14,
          1,
          5,
          9,
          9,
          2,
          12,
          1,
          5,
          13,
          13,
          12,
          1,
          1,
          6,
          12,
          12,
          1,
          1,
          6,
          4,
          2,
          2,
          1,
          5,
          2,
          2,
          7,
          4,
          8,
          2,
          1,
          3,
          10,
          4,
          7,
          1,
          2,
          10,
          1,
          1,
          4,
          12,
          1,
          1,
          2,
          4,
          14,
          1,
          5,
          8,
          1,
          4,
          1,
          14,
          14,
          15,
          9,
          1,
          9,
          6,
          1,
          7,
          2,
          8,
          1,
          7,
          1,
          8,
          1,
          12,
          13,
          4,
          6,
          6,
          2,
          4,
          1,
          19,
          1,
          1,
          2,
          4,
          16,
          4,
          2,
          8,
          2,
          1,
          1,
          1,
          12,
          3,
          1,
          2,
          2,
          5,
          1,
          14,
          1,
          14,
          4,
          10,
          1,
          1,
          8,
          11,
          18,
          1,
          16,
          1,
          9,
          10,
          1,
          12,
          5,
          3,
          3,
          1,
          1,
          3,
          15,
          5,
          7,
          2,
          1,
          15,
          1,
          9,
          1,
          6,
          1,
          3,
          1,
          10,
          1,
          16,
          11,
          2,
          8,
          2,
          3,
          4,
          1,
          13,
          2,
          4,
          1,
          1,
          4,
          1,
          1,
          1,
          2,
          3,
          15,
          1,
          7,
          1,
          1,
          5,
          6,
          5,
          5,
          1,
          2,
          1,
          11,
          3,
          1,
          2,
          3,
          3,
          8,
          1,
          13,
          2,
          1,
          12,
          8,
          7,
          2,
          4,
          18,
          4,
          4,
          6,
          5,
          1,
          3,
          19,
          13,
          15,
          1,
          6,
          1,
          3,
          17,
          1,
          7,
          1,
          1,
          4,
          1,
          4,
          9,
          2,
          12,
          7,
          7,
          1,
          1,
          3,
          12,
          4,
          9,
          7,
          14,
          10,
          4,
          1,
          1,
          2,
          8,
          6,
          1,
          2,
          5,
          9,
          5,
          2,
          5,
          2,
          5,
          2,
          5,
          1,
          8,
          2,
          1,
          4,
          1,
          4,
          15,
          11,
          1,
          6,
          2,
          1,
          15,
          8,
          3,
          1,
          4,
          3,
          12,
          1,
          1,
          5,
          12,
          1,
          1,
          5,
          4,
          3,
          14,
          1,
          11,
          2,
          11,
          2,
          6,
          1,
          10,
          1,
          5,
          1,
          1,
          1,
          9,
          1,
          1,
          2,
          5,
          13,
          10,
          3,
          1,
          14,
          1,
          6,
          6,
          10,
          14,
          6,
          17,
          1,
          1,
          2,
          10,
          13,
          4,
          13,
          5,
          1,
          2,
          2,
          1,
          1,
          4,
          7,
          1,
          7,
          1,
          5,
          1,
          2,
          1,
          3,
          2,
          10,
          4,
          5,
          11,
          2,
          2,
          12,
          2,
          5,
          1,
          1,
          1,
          1,
          2,
          1,
          1,
          9,
          6,
          11,
          3,
          22,
          14,
          7,
          9,
          3,
          9,
          2,
          1,
          1,
          5,
          12,
          6,
          1,
          12,
          1,
          1,
          1,
          5,
          15,
          8,
          3,
          14,
          1,
          3,
          11,
          5,
          1,
          3,
          1,
          8,
          5,
          8,
          17,
          16,
          8,
          7,
          9,
          2,
          6,
          14,
          2,
          7,
          1,
          9,
          9,
          1,
          9,
          5,
          1,
          3,
          6,
          8,
          2,
          9,
          14,
          6,
          13,
          2,
          2,
          12,
          2,
          16,
          2,
          9,
          1,
          1,
          1,
          3,
          8,
          5,
          9,
          7,
          11,
          13,
          7,
          1,
          2,
          10,
          4,
          1,
          4,
          5,
          7,
          3,
          1,
          1,
          1,
          6,
          12,
          1,
          4,
          12,
          1,
          1,
          4,
          1,
          7,
          10,
          1,
          1,
          1,
          9,
          10,
          13,
          1,
          13,
          2,
          1,
          2,
          4,
          2,
          1,
          10,
          1,
          1,
          1,
          10,
          3,
          7,
          2,
          3,
          7,
          13,
          8,
          1,
          2,
          1,
          9,
          6,
          2,
          10,
          7,
          3,
          14,
          4,
          5,
          6,
          2,
          1,
          6,
          6,
          5,
          28,
          8,
          1,
          2,
          14,
          2,
          1,
          11,
          2,
          1,
          8,
          1,
          1,
          2,
          1,
          1,
          2,
          4,
          2,
          1,
          1,
          13,
          1,
          5,
          3,
          2,
          3,
          2,
          7,
          1,
          17,
          5,
          9,
          1,
          9,
          1,
          2,
          1,
          3,
          6,
          1,
          12,
          1,
          1,
          4,
          2,
          1,
          1,
          1,
          10,
          1,
          8,
          3,
          4,
          1,
          6,
          8,
          6,
          1,
          1,
          1,
          1,
          5,
          4,
          10,
          9,
          16,
          4,
          2,
          7,
          8,
          2,
          12,
          13,
          7,
          1,
          7,
          1,
          1,
          6,
          1,
          5,
          1,
          6,
          7,
          7,
          3,
          1,
          1,
          1,
          1,
          1,
          6,
          12,
          5,
          4,
          14,
          14,
          3,
          2,
          4,
          7,
          4,
          1,
          11,
          8,
          6,
          26,
          1,
          1,
          3,
          3,
          2,
          23,
          1,
          1,
          9,
          6,
          7,
          4,
          1,
          3,
          19,
          1,
          15,
          5,
          11,
          11,
          12,
          10,
          1,
          3,
          1,
          11,
          2,
          13,
          5,
          7,
          1,
          2,
          1,
          1,
          6,
          12,
          1,
          5,
          7,
          6,
          11,
          4,
          5,
          5,
          7,
          1,
          1,
          6,
          5,
          10,
          12,
          3,
          1,
          12,
          1,
          3,
          2,
          2,
          18,
          8,
          15,
          1,
          1,
          4,
          5,
          1,
          9,
          6,
          2,
          11,
          5,
          1,
          3,
          1,
          4,
          4,
          5,
          1,
          2,
          2,
          1,
          9,
          4,
          11,
          11,
          3,
          5,
          3,
          7,
          2,
          11,
          15,
          2,
          9,
          2,
          1,
          8,
          4,
          6,
          7,
          1,
          2,
          1,
          18,
          8,
          1,
          1,
          13,
          8,
          1,
          3,
          4,
          1,
          1,
          17,
          1,
          1,
          2,
          2,
          12,
          10,
          1,
          7,
          1,
          3,
          1,
          1,
          3,
          1,
          4,
          1,
          7,
          12,
          2,
          2,
          4,
          1,
          10,
          1,
          1,
          1,
          7,
          6,
          8,
          3,
          8,
          3,
          4,
          1,
          1,
          11,
          1,
          1,
          4,
          1,
          9,
          1,
          6,
          1,
          1,
          7,
          13,
          2,
          1,
          4,
          1,
          3,
          11,
          8,
          1,
          11,
          2,
          2,
          1,
          12,
          13,
          1,
          2,
          3,
          9,
          1,
          3,
          5,
          1,
          9,
          1,
          1,
          1,
          8,
          2,
          10,
          4,
          2,
          11,
          1,
          8,
          1,
          9,
          1,
          1,
          1,
          14,
          1,
          1,
          1,
          8,
          11,
          3,
          1,
          3,
          5,
          1,
          4,
          2,
          4,
          12,
          5,
          7,
          2,
          1,
          1,
          2,
          2,
          1,
          1,
          7,
          9,
          1,
          13,
          2,
          12,
          13,
          12,
          17,
          11,
          1,
          1,
          5,
          5,
          13,
          2,
          6,
          2,
          9,
          1,
          1,
          2,
          15,
          19,
          3,
          8,
          4,
          8,
          14,
          1,
          3,
          1,
          1,
          12,
          3,
          8,
          1,
          6,
          7,
          1,
          2,
          7,
          3,
          12,
          3,
          1,
          5,
          1,
          5,
          4,
          7,
          3,
          13,
          4,
          10,
          11,
          3,
          5,
          2,
          2,
          13,
          3,
          12,
          1,
          10,
          7,
          2,
          8,
          5,
          13,
          10,
          9,
          19,
          1,
          10,
          1,
          14,
          3,
          10,
          18,
          8,
          13,
          2,
          3,
          11,
          3,
          1,
          1,
          2,
          11,
          2,
          4,
          1,
          9,
          1,
          1,
          9,
          5,
          7,
          9,
          1,
          1,
          13,
          10,
          10,
          2,
          14,
          5,
          8,
          1,
          13,
          2,
          12,
          12,
          1,
          12,
          4,
          1,
          5,
          8,
          3,
          12,
          2,
          1,
          6,
          4,
          3,
          1,
          10,
          2,
          3,
          1,
          6,
          5,
          7,
          2,
          3,
          3,
          2,
          7,
          18,
          2,
          2,
          2,
          2,
          1,
          1,
          1,
          2,
          11,
          4,
          17,
          5,
          5,
          11,
          9,
          1,
          4,
          1,
          1,
          6,
          5,
          4,
          1,
          2,
          1,
          1,
          11,
          1,
          1,
          11,
          1,
          10,
          11,
          1,
          18,
          14,
          9,
          2,
          1,
          1,
          1,
          4,
          5,
          7,
          11,
          1,
          1,
          9,
          2,
          1,
          1,
          1,
          8,
          9,
          1,
          8,
          2,
          7,
          10,
          2,
          1,
          1,
          4,
          14,
          1,
          10,
          7,
          1,
          7,
          9,
          1,
          1,
          7,
          7,
          7,
          9,
          1,
          2,
          1,
          2,
          3,
          8,
          6,
          7,
          4,
          1,
          1,
          2,
          1,
          1,
          2,
          5,
          8,
          3,
          1,
          2,
          11,
          1,
          5,
          6,
          1,
          2,
          1,
          1,
          3,
          2,
          8,
          9,
          4,
          26,
          10,
          1,
          1,
          8,
          2,
          1,
          11,
          1,
          1,
          8,
          2,
          6,
          1,
          4,
          5,
          1,
          1,
          2,
          14,
          8,
          5,
          13,
          3,
          6,
          3,
          3,
          2,
          3,
          16,
          2,
          15,
          3,
          2,
          10,
          1,
          2,
          1,
          3,
          3,
          16,
          1,
          4,
          3,
          1,
          12,
          2,
          10,
          1,
          1,
          3,
          5,
          13,
          7,
          6,
          3,
          8,
          8,
          1,
          12,
          1,
          7,
          10,
          10,
          3,
          7,
          1,
          1,
          6,
          1,
          11,
          2,
          11,
          3,
          2,
          1,
          1,
          8,
          1,
          2,
          16,
          5,
          6,
          5,
          12,
          3,
          7,
          2,
          2,
          19,
          4,
          1,
          1,
          1,
          10,
          3,
          1,
          2,
          2,
          11,
          1,
          1,
          1,
          1,
          1,
          7,
          1,
          3,
          14,
          13,
          3,
          3,
          6,
          14,
          19,
          2,
          1,
          9,
          2,
          5,
          9,
          3,
          1,
          2,
          7,
          8,
          5,
          9,
          9,
          5,
          1,
          1,
          2,
          1,
          10,
          9,
          11,
          1,
          14,
          5,
          1,
          1,
          2,
          8,
          10,
          2,
          16,
          2,
          3,
          1,
          4,
          2,
          3,
          14,
          3,
          11,
          6,
          11,
          9,
          8,
          5,
          11,
          1,
          1,
          2,
          3,
          2,
          3,
          7,
          11,
          5,
          8,
          2,
          2,
          1,
          2,
          3,
          12,
          2,
          1,
          2,
          1,
          4,
          10,
          9,
          1,
          3,
          10,
          2,
          10,
          9,
          2,
          2,
          12,
          8,
          1,
          7,
          1,
          1,
          12,
          4,
          11,
          2,
          1,
          3,
          3,
          8,
          12,
          1,
          5,
          2,
          2,
          4,
          6,
          5,
          3,
          2,
          2,
          2,
          3,
          19,
          9,
          3,
          1,
          5,
          1,
          20,
          8,
          19,
          2,
          1,
          6,
          1,
          1,
          4,
          1,
          9,
          1,
          11,
          2,
          3,
          2,
          12,
          4,
          3,
          1,
          4,
          1,
          4,
          1,
          1,
          1,
          1,
          4,
          9,
          6,
          1,
          4,
          2,
          10,
          10,
          6,
          3,
          6,
          1,
          7,
          1,
          5,
          4,
          1,
          18,
          1,
          1,
          1,
          5,
          10,
          1,
          2,
          15,
          4,
          13,
          3,
          6,
          14,
          4,
          10,
          3,
          4,
          10,
          2,
          4,
          4,
          5,
          4,
          4,
          2,
          2,
          9,
          10,
          11,
          9,
          4,
          5,
          11,
          4,
          1,
          15,
          6,
          15,
          9,
          3,
          1,
          11,
          10,
          13,
          10,
          21,
          10,
          2,
          13,
          1,
          9,
          3,
          11,
          9,
          2,
          12,
          13,
          7,
          1,
          3,
          13,
          11,
          6,
          8,
          2,
          7,
          8,
          1,
          6,
          23,
          1,
          2,
          13,
          1,
          6,
          5,
          13,
          1,
          1,
          5,
          2,
          13,
          2,
          4,
          3,
          6,
          4,
          20,
          1,
          3,
          9,
          1,
          2,
          1,
          13,
          1,
          2,
          1,
          9,
          14,
          18,
          12,
          3,
          14,
          11,
          7,
          5,
          5,
          3,
          1,
          6,
          5,
          3,
          11,
          1,
          11,
          4,
          15,
          6,
          14,
          2,
          12,
          2,
          3,
          4,
          1,
          3,
          7,
          6,
          5,
          3,
          2,
          7,
          13,
          1,
          1,
          14,
          3,
          1,
          12,
          1,
          2,
          14,
          24,
          10,
          7,
          11,
          6,
          2,
          1,
          1,
          2,
          12,
          7,
          9,
          13,
          5,
          6,
          9,
          6,
          1,
          6,
          1,
          13,
          3,
          6,
          1,
          8,
          3,
          2,
          3,
          1,
          14,
          5,
          14,
          10,
          1,
          1,
          7,
          6,
          3,
          7,
          9,
          8,
          2,
          2,
          15,
          5,
          1,
          1,
          1,
          2,
          2,
          2,
          1,
          7,
          5,
          3,
          7,
          3,
          1,
          2,
          1,
          14,
          1,
          2,
          1,
          13,
          6,
          1,
          6,
          1,
          9,
          8,
          1,
          17,
          6,
          3,
          1,
          10,
          7,
          7,
          6,
          7,
          5,
          1,
          10,
          4,
          4,
          7,
          13,
          3,
          1,
          5,
          8,
          10,
          13,
          2,
          3,
          12,
          3,
          5,
          8,
          3,
          2,
          11,
          10,
          9,
          3,
          12,
          10,
          2,
          1,
          1,
          10,
          7,
          2,
          12,
          2,
          10,
          3,
          1,
          13,
          1,
          6,
          5,
          1,
          1,
          9,
          2,
          1,
          7,
          3,
          5,
          17,
          11,
          6,
          1,
          2,
          2,
          1,
          1,
          1,
          4,
          1,
          4,
          10,
          1,
          2,
          13,
          8,
          5,
          7,
          2,
          15,
          10,
          3,
          9,
          7,
          7,
          2,
          10,
          10,
          8,
          4,
          17,
          1,
          6,
          1,
          8,
          1,
          4,
          6,
          3,
          8,
          2,
          1,
          4,
          4,
          5,
          8,
          11,
          2,
          2,
          4,
          6,
          13,
          5,
          9,
          1,
          15,
          1,
          12,
          11,
          4,
          17,
          22,
          7,
          8,
          9,
          9,
          1,
          11,
          8,
          12,
          2,
          4,
          1,
          9,
          3,
          17,
          2,
          2,
          6,
          7,
          2,
          1,
          2,
          2,
          1,
          13,
          1,
          10,
          2,
          9,
          1,
          1,
          1,
          10,
          2,
          2,
          1,
          5,
          9,
          1,
          1,
          1,
          1,
          4,
          11,
          12,
          4,
          6,
          14,
          12,
          12,
          10,
          3,
          3,
          10,
          10,
          11,
          7,
          1,
          1,
          1,
          1,
          1,
          4,
          5,
          1,
          1,
          15,
          11,
          5,
          12,
          2,
          1,
          3,
          10,
          4,
          1,
          7,
          1,
          8,
          1,
          5,
          10,
          6,
          12,
          1,
          4,
          1,
          7,
          1,
          1,
          2,
          1,
          2,
          12,
          1,
          1,
          6,
          3,
          18,
          5,
          11,
          1,
          3,
          9,
          5,
          8,
          16,
          4,
          12,
          12,
          5,
          10,
          15,
          1,
          5,
          3,
          19,
          5,
          1,
          9,
          3,
          12,
          10,
          12,
          8,
          2,
          4,
          6,
          8,
          11,
          7,
          10,
          1,
          5,
          1,
          12,
          9,
          1,
          1,
          14,
          9,
          2,
          11,
          1,
          10,
          4,
          14,
          9,
          8,
          2,
          6,
          3,
          10,
          14,
          4,
          1,
          2,
          7,
          2,
          6,
          2,
          13,
          1,
          2,
          1,
          1,
          9,
          17,
          10,
          1,
          4,
          11,
          1,
          5,
          8,
          1,
          2,
          3,
          3,
          2,
          9,
          11,
          5,
          1,
          1,
          7,
          3,
          4,
          1,
          1,
          2,
          8,
          1,
          11,
          14,
          1,
          5,
          1,
          1,
          2,
          7,
          1,
          4,
          4,
          1,
          2,
          1,
          5,
          10,
          2,
          14,
          11,
          9,
          1,
          7,
          2,
          13,
          1,
          1,
          6,
          12,
          1,
          1,
          2,
          9,
          10,
          13,
          7,
          5,
          11,
          19,
          3,
          14,
          1,
          1,
          4,
          13,
          1,
          1,
          2,
          1,
          1,
          2,
          8,
          1,
          5,
          1,
          1,
          3,
          1,
          1,
          12,
          11,
          14,
          8,
          2,
          2,
          18,
          2,
          8,
          9,
          4,
          8,
          4,
          2,
          1,
          7,
          15,
          3,
          13,
          2,
          13,
          1,
          1,
          5,
          4,
          13,
          2,
          7,
          10,
          9,
          1,
          1,
          3,
          1,
          2,
          3,
          6,
          6,
          4,
          3,
          4,
          1,
          2,
          2,
          1,
          1,
          12,
          1,
          1,
          1,
          10,
          1,
          2,
          1,
          6,
          1,
          1,
          8,
          6,
          8,
          1,
          2,
          1,
          17,
          3,
          1,
          12,
          1,
          10,
          3,
          3,
          2,
          7,
          8,
          6,
          1,
          4,
          13,
          14,
          2,
          3,
          12,
          2,
          5,
          12,
          1,
          6,
          17,
          9,
          4,
          1,
          2,
          15,
          2,
          11,
          4,
          6,
          3,
          1,
          1,
          5,
          2,
          12,
          1,
          3,
          1,
          10,
          9,
          1,
          5,
          1,
          1,
          1,
          17,
          1,
          4,
          7,
          8,
          16,
          12,
          1,
          4,
          1,
          7,
          1,
          3,
          6,
          7,
          6,
          2,
          4,
          5,
          1,
          11,
          12,
          6,
          3,
          1,
          19,
          11,
          5,
          11,
          3,
          16,
          1,
          3,
          6,
          12,
          1,
          2,
          3,
          13,
          6,
          3,
          2,
          3,
          2,
          1,
          1,
          12,
          1,
          9,
          3,
          1,
          10,
          12,
          6,
          2,
          1,
          1,
          2,
          8,
          1,
          1,
          10,
          7,
          2,
          3,
          10,
          13,
          7,
          2,
          1,
          3,
          3,
          1,
          9,
          1,
          1,
          1,
          1,
          2,
          10,
          11,
          5,
          1,
          4,
          1,
          1,
          2,
          9,
          12,
          13,
          5,
          3,
          5,
          3,
          5,
          10,
          1,
          10,
          7,
          4,
          2,
          1,
          10,
          11,
          3,
          11,
          12,
          11,
          2,
          2,
          2,
          1,
          1,
          4,
          3,
          2,
          1,
          1,
          9,
          4,
          1,
          1,
          10,
          2,
          2,
          8,
          4,
          2,
          11,
          12,
          1,
          11,
          1,
          11,
          12,
          5,
          9,
          4,
          4,
          2,
          16,
          18,
          12,
          1,
          14,
          1,
          2,
          2,
          2,
          18,
          1,
          4,
          1,
          1,
          9,
          4,
          3,
          1,
          1,
          1,
          9,
          8,
          10,
          1,
          12,
          4,
          1,
          5,
          12,
          4,
          3,
          8,
          3,
          4,
          2,
          13,
          2,
          1,
          5,
          6,
          4,
          7,
          6,
          6,
          18,
          9,
          2,
          13,
          6,
          1,
          12,
          2,
          7,
          1,
          3,
          1,
          11,
          4,
          1,
          2,
          2,
          3,
          1,
          8,
          1,
          4,
          14,
          16,
          1,
          1,
          1,
          6,
          2,
          5,
          14,
          1,
          3,
          7,
          15,
          9,
          1,
          6,
          13,
          1,
          19,
          7,
          8,
          1,
          2,
          5,
          15,
          1,
          1,
          1,
          1,
          12,
          1,
          2,
          1,
          16,
          6,
          11,
          1,
          12,
          1,
          1,
          1,
          2,
          2,
          2,
          1,
          4,
          1,
          4,
          1,
          16,
          13,
          21,
          14,
          4,
          8,
          5,
          7,
          5,
          1,
          2,
          9,
          1,
          2,
          3,
          1,
          13,
          1,
          17,
          8,
          6,
          5,
          3,
          10,
          1,
          1,
          12,
          10,
          4,
          3,
          4,
          8,
          1,
          12,
          6,
          1,
          1,
          2,
          1,
          13,
          1,
          2,
          1,
          10,
          1,
          7,
          2,
          5,
          8,
          2,
          5,
          1,
          6,
          1,
          1,
          8,
          15,
          2,
          1,
          2,
          6,
          2,
          8,
          1,
          2,
          4,
          1,
          2,
          4,
          2,
          8,
          8,
          8,
          2,
          8,
          6,
          1,
          1,
          12,
          1,
          10,
          11,
          12,
          5,
          3,
          5,
          2,
          9,
          8,
          5,
          4,
          9,
          10,
          1,
          3,
          1,
          1,
          10,
          3,
          4,
          11,
          4,
          1,
          10,
          3,
          11,
          6,
          7,
          3,
          7,
          2,
          1,
          9,
          7,
          9,
          11,
          9,
          10,
          3,
          4,
          1,
          1,
          1,
          2,
          2,
          3,
          11,
          15,
          2,
          3,
          12,
          13,
          10,
          13,
          4,
          17,
          1,
          1,
          2,
          1,
          7,
          17,
          2,
          4,
          10,
          3,
          14,
          2,
          8,
          2,
          1,
          10,
          13,
          4,
          11,
          10,
          8,
          1,
          2,
          1,
          11,
          7,
          1,
          7,
          2,
          8,
          3,
          1,
          10,
          13,
          15,
          17,
          1,
          1,
          12,
          3,
          8,
          3,
          2,
          13,
          5,
          12,
          1,
          5,
          11,
          14,
          9,
          1,
          2,
          8,
          1,
          1,
          3,
          11,
          4,
          4,
          3,
          4,
          9,
          10,
          13,
          1,
          8,
          3,
          9,
          19,
          12,
          4,
          1,
          13,
          10,
          12,
          14,
          1,
          16,
          4,
          9,
          6,
          2,
          1,
          6,
          1,
          4,
          1,
          6,
          1,
          12,
          1,
          1,
          10,
          1,
          10,
          7,
          12,
          10,
          1,
          1,
          1,
          1,
          1,
          11,
          1,
          13,
          7,
          6,
          7,
          6,
          2,
          4,
          8,
          2,
          2,
          6,
          8,
          3,
          8,
          3,
          10,
          13,
          13,
          1,
          15,
          8,
          1,
          4,
          4,
          7,
          4,
          1,
          3,
          1,
          7,
          1,
          1,
          2,
          9,
          1,
          1,
          1,
          8,
          6,
          6,
          14,
          1,
          1,
          13,
          4,
          5,
          13,
          3,
          1,
          9,
          11,
          1,
          2,
          9,
          2,
          3,
          1,
          2,
          5,
          10,
          5,
          9,
          10,
          1,
          15,
          9,
          2,
          1,
          14,
          18,
          11,
          5,
          7,
          2,
          14,
          5,
          4,
          1,
          9,
          1,
          1,
          4,
          9,
          9,
          8,
          7,
          1,
          3,
          2,
          8,
          1,
          1,
          9,
          2,
          3,
          14,
          8,
          2,
          3,
          1,
          3,
          3,
          6,
          2,
          5,
          1,
          1,
          1,
          14,
          2,
          1,
          3,
          7,
          5,
          3,
          1,
          2,
          11,
          5,
          1,
          5,
          4,
          8,
          1,
          18,
          12,
          6,
          11,
          1,
          5,
          4,
          4,
          11,
          17,
          2,
          11,
          1,
          11,
          2,
          11,
          10,
          1,
          1,
          1,
          16,
          2,
          2,
          5,
          1,
          5,
          1,
          16,
          7,
          1,
          2,
          4,
          4,
          4,
          19,
          3,
          28,
          3,
          12,
          11,
          8,
          1,
          8,
          1,
          13,
          1,
          7,
          1,
          14,
          6,
          1,
          6,
          2,
          9,
          5,
          7,
          9,
          5,
          5,
          4,
          1,
          1,
          6,
          5,
          3,
          1,
          10,
          9,
          1,
          7,
          17,
          1,
          4,
          11,
          13,
          12,
          10,
          9,
          9,
          4,
          1,
          1,
          3,
          2,
          8,
          5,
          11,
          10,
          7,
          2,
          1,
          1,
          3,
          13,
          1,
          1,
          1,
          1,
          5,
          7,
          12,
          3,
          1,
          1,
          2,
          1,
          3,
          1,
          8,
          13,
          13,
          15,
          3,
          1,
          8,
          11,
          5,
          10,
          4,
          3,
          1,
          5,
          1,
          2,
          2,
          15,
          1,
          16,
          1,
          2,
          11,
          4,
          1,
          1,
          4,
          1,
          1,
          2,
          2,
          2,
          3,
          15,
          6,
          12,
          3,
          10,
          5,
          2,
          1,
          7,
          1,
          3,
          11,
          1,
          2,
          18,
          4,
          11,
          9,
          1,
          13,
          7,
          2,
          6,
          1,
          4,
          1,
          4,
          2,
          1,
          6,
          1,
          4,
          11,
          12,
          1,
          11,
          8,
          3,
          7,
          2,
          3,
          1,
          5,
          8,
          1,
          16,
          14,
          4,
          11,
          9,
          2,
          16,
          1,
          6,
          2,
          14,
          1,
          5,
          2,
          1,
          12,
          3,
          4,
          10,
          1,
          13,
          1,
          2,
          1,
          11,
          3,
          4,
          4,
          13,
          5,
          19,
          1,
          11,
          1,
          1,
          13,
          14,
          11,
          1,
          16,
          12,
          6,
          1,
          7,
          3,
          11,
          1,
          3,
          12,
          3,
          1,
          4,
          1,
          10,
          8,
          14,
          3,
          5,
          13,
          1,
          10,
          3,
          1,
          10,
          11,
          3,
          3,
          15,
          8,
          3,
          1,
          10,
          3,
          1,
          1,
          5,
          1,
          1,
          2,
          1,
          12,
          14,
          8,
          11,
          1,
          5,
          1,
          1,
          1,
          1,
          1,
          1,
          1,
          2,
          1,
          1,
          1,
          10,
          13,
          2,
          7,
          8,
          11,
          2,
          1,
          6,
          1,
          2,
          4,
          1,
          5,
          1,
          10,
          1,
          7,
          1,
          13,
          8,
          3,
          7,
          2,
          2,
          9,
          9,
          2,
          12,
          5,
          3,
          10,
          7,
          2,
          4,
          1,
          1,
          2,
          1,
          2,
          10,
          1,
          10,
          2,
          14,
          4,
          3,
          3,
          2,
          8,
          9,
          13,
          1,
          5,
          13,
          1,
          1,
          4,
          9,
          2,
          5,
          4,
          1,
          1,
          1,
          1,
          1,
          3,
          16,
          10,
          7,
          3,
          1,
          14,
          3,
          3,
          5,
          13,
          6,
          1,
          3,
          14
         ],
         "xaxis": "x",
         "yaxis": "y"
        }
       ],
       "layout": {
        "barmode": "relative",
        "legend": {
         "tracegroupgap": 0
        },
        "template": {
         "data": {
          "bar": [
           {
            "error_x": {
             "color": "#2a3f5f"
            },
            "error_y": {
             "color": "#2a3f5f"
            },
            "marker": {
             "line": {
              "color": "#E5ECF6",
              "width": 0.5
             },
             "pattern": {
              "fillmode": "overlay",
              "size": 10,
              "solidity": 0.2
             }
            },
            "type": "bar"
           }
          ],
          "barpolar": [
           {
            "marker": {
             "line": {
              "color": "#E5ECF6",
              "width": 0.5
             },
             "pattern": {
              "fillmode": "overlay",
              "size": 10,
              "solidity": 0.2
             }
            },
            "type": "barpolar"
           }
          ],
          "carpet": [
           {
            "aaxis": {
             "endlinecolor": "#2a3f5f",
             "gridcolor": "white",
             "linecolor": "white",
             "minorgridcolor": "white",
             "startlinecolor": "#2a3f5f"
            },
            "baxis": {
             "endlinecolor": "#2a3f5f",
             "gridcolor": "white",
             "linecolor": "white",
             "minorgridcolor": "white",
             "startlinecolor": "#2a3f5f"
            },
            "type": "carpet"
           }
          ],
          "choropleth": [
           {
            "colorbar": {
             "outlinewidth": 0,
             "ticks": ""
            },
            "type": "choropleth"
           }
          ],
          "contour": [
           {
            "colorbar": {
             "outlinewidth": 0,
             "ticks": ""
            },
            "colorscale": [
             [
              0,
              "#0d0887"
             ],
             [
              0.1111111111111111,
              "#46039f"
             ],
             [
              0.2222222222222222,
              "#7201a8"
             ],
             [
              0.3333333333333333,
              "#9c179e"
             ],
             [
              0.4444444444444444,
              "#bd3786"
             ],
             [
              0.5555555555555556,
              "#d8576b"
             ],
             [
              0.6666666666666666,
              "#ed7953"
             ],
             [
              0.7777777777777778,
              "#fb9f3a"
             ],
             [
              0.8888888888888888,
              "#fdca26"
             ],
             [
              1,
              "#f0f921"
             ]
            ],
            "type": "contour"
           }
          ],
          "contourcarpet": [
           {
            "colorbar": {
             "outlinewidth": 0,
             "ticks": ""
            },
            "type": "contourcarpet"
           }
          ],
          "heatmap": [
           {
            "colorbar": {
             "outlinewidth": 0,
             "ticks": ""
            },
            "colorscale": [
             [
              0,
              "#0d0887"
             ],
             [
              0.1111111111111111,
              "#46039f"
             ],
             [
              0.2222222222222222,
              "#7201a8"
             ],
             [
              0.3333333333333333,
              "#9c179e"
             ],
             [
              0.4444444444444444,
              "#bd3786"
             ],
             [
              0.5555555555555556,
              "#d8576b"
             ],
             [
              0.6666666666666666,
              "#ed7953"
             ],
             [
              0.7777777777777778,
              "#fb9f3a"
             ],
             [
              0.8888888888888888,
              "#fdca26"
             ],
             [
              1,
              "#f0f921"
             ]
            ],
            "type": "heatmap"
           }
          ],
          "heatmapgl": [
           {
            "colorbar": {
             "outlinewidth": 0,
             "ticks": ""
            },
            "colorscale": [
             [
              0,
              "#0d0887"
             ],
             [
              0.1111111111111111,
              "#46039f"
             ],
             [
              0.2222222222222222,
              "#7201a8"
             ],
             [
              0.3333333333333333,
              "#9c179e"
             ],
             [
              0.4444444444444444,
              "#bd3786"
             ],
             [
              0.5555555555555556,
              "#d8576b"
             ],
             [
              0.6666666666666666,
              "#ed7953"
             ],
             [
              0.7777777777777778,
              "#fb9f3a"
             ],
             [
              0.8888888888888888,
              "#fdca26"
             ],
             [
              1,
              "#f0f921"
             ]
            ],
            "type": "heatmapgl"
           }
          ],
          "histogram": [
           {
            "marker": {
             "pattern": {
              "fillmode": "overlay",
              "size": 10,
              "solidity": 0.2
             }
            },
            "type": "histogram"
           }
          ],
          "histogram2d": [
           {
            "colorbar": {
             "outlinewidth": 0,
             "ticks": ""
            },
            "colorscale": [
             [
              0,
              "#0d0887"
             ],
             [
              0.1111111111111111,
              "#46039f"
             ],
             [
              0.2222222222222222,
              "#7201a8"
             ],
             [
              0.3333333333333333,
              "#9c179e"
             ],
             [
              0.4444444444444444,
              "#bd3786"
             ],
             [
              0.5555555555555556,
              "#d8576b"
             ],
             [
              0.6666666666666666,
              "#ed7953"
             ],
             [
              0.7777777777777778,
              "#fb9f3a"
             ],
             [
              0.8888888888888888,
              "#fdca26"
             ],
             [
              1,
              "#f0f921"
             ]
            ],
            "type": "histogram2d"
           }
          ],
          "histogram2dcontour": [
           {
            "colorbar": {
             "outlinewidth": 0,
             "ticks": ""
            },
            "colorscale": [
             [
              0,
              "#0d0887"
             ],
             [
              0.1111111111111111,
              "#46039f"
             ],
             [
              0.2222222222222222,
              "#7201a8"
             ],
             [
              0.3333333333333333,
              "#9c179e"
             ],
             [
              0.4444444444444444,
              "#bd3786"
             ],
             [
              0.5555555555555556,
              "#d8576b"
             ],
             [
              0.6666666666666666,
              "#ed7953"
             ],
             [
              0.7777777777777778,
              "#fb9f3a"
             ],
             [
              0.8888888888888888,
              "#fdca26"
             ],
             [
              1,
              "#f0f921"
             ]
            ],
            "type": "histogram2dcontour"
           }
          ],
          "mesh3d": [
           {
            "colorbar": {
             "outlinewidth": 0,
             "ticks": ""
            },
            "type": "mesh3d"
           }
          ],
          "parcoords": [
           {
            "line": {
             "colorbar": {
              "outlinewidth": 0,
              "ticks": ""
             }
            },
            "type": "parcoords"
           }
          ],
          "pie": [
           {
            "automargin": true,
            "type": "pie"
           }
          ],
          "scatter": [
           {
            "fillpattern": {
             "fillmode": "overlay",
             "size": 10,
             "solidity": 0.2
            },
            "type": "scatter"
           }
          ],
          "scatter3d": [
           {
            "line": {
             "colorbar": {
              "outlinewidth": 0,
              "ticks": ""
             }
            },
            "marker": {
             "colorbar": {
              "outlinewidth": 0,
              "ticks": ""
             }
            },
            "type": "scatter3d"
           }
          ],
          "scattercarpet": [
           {
            "marker": {
             "colorbar": {
              "outlinewidth": 0,
              "ticks": ""
             }
            },
            "type": "scattercarpet"
           }
          ],
          "scattergeo": [
           {
            "marker": {
             "colorbar": {
              "outlinewidth": 0,
              "ticks": ""
             }
            },
            "type": "scattergeo"
           }
          ],
          "scattergl": [
           {
            "marker": {
             "colorbar": {
              "outlinewidth": 0,
              "ticks": ""
             }
            },
            "type": "scattergl"
           }
          ],
          "scattermapbox": [
           {
            "marker": {
             "colorbar": {
              "outlinewidth": 0,
              "ticks": ""
             }
            },
            "type": "scattermapbox"
           }
          ],
          "scatterpolar": [
           {
            "marker": {
             "colorbar": {
              "outlinewidth": 0,
              "ticks": ""
             }
            },
            "type": "scatterpolar"
           }
          ],
          "scatterpolargl": [
           {
            "marker": {
             "colorbar": {
              "outlinewidth": 0,
              "ticks": ""
             }
            },
            "type": "scatterpolargl"
           }
          ],
          "scatterternary": [
           {
            "marker": {
             "colorbar": {
              "outlinewidth": 0,
              "ticks": ""
             }
            },
            "type": "scatterternary"
           }
          ],
          "surface": [
           {
            "colorbar": {
             "outlinewidth": 0,
             "ticks": ""
            },
            "colorscale": [
             [
              0,
              "#0d0887"
             ],
             [
              0.1111111111111111,
              "#46039f"
             ],
             [
              0.2222222222222222,
              "#7201a8"
             ],
             [
              0.3333333333333333,
              "#9c179e"
             ],
             [
              0.4444444444444444,
              "#bd3786"
             ],
             [
              0.5555555555555556,
              "#d8576b"
             ],
             [
              0.6666666666666666,
              "#ed7953"
             ],
             [
              0.7777777777777778,
              "#fb9f3a"
             ],
             [
              0.8888888888888888,
              "#fdca26"
             ],
             [
              1,
              "#f0f921"
             ]
            ],
            "type": "surface"
           }
          ],
          "table": [
           {
            "cells": {
             "fill": {
              "color": "#EBF0F8"
             },
             "line": {
              "color": "white"
             }
            },
            "header": {
             "fill": {
              "color": "#C8D4E3"
             },
             "line": {
              "color": "white"
             }
            },
            "type": "table"
           }
          ]
         },
         "layout": {
          "annotationdefaults": {
           "arrowcolor": "#2a3f5f",
           "arrowhead": 0,
           "arrowwidth": 1
          },
          "autotypenumbers": "strict",
          "coloraxis": {
           "colorbar": {
            "outlinewidth": 0,
            "ticks": ""
           }
          },
          "colorscale": {
           "diverging": [
            [
             0,
             "#8e0152"
            ],
            [
             0.1,
             "#c51b7d"
            ],
            [
             0.2,
             "#de77ae"
            ],
            [
             0.3,
             "#f1b6da"
            ],
            [
             0.4,
             "#fde0ef"
            ],
            [
             0.5,
             "#f7f7f7"
            ],
            [
             0.6,
             "#e6f5d0"
            ],
            [
             0.7,
             "#b8e186"
            ],
            [
             0.8,
             "#7fbc41"
            ],
            [
             0.9,
             "#4d9221"
            ],
            [
             1,
             "#276419"
            ]
           ],
           "sequential": [
            [
             0,
             "#0d0887"
            ],
            [
             0.1111111111111111,
             "#46039f"
            ],
            [
             0.2222222222222222,
             "#7201a8"
            ],
            [
             0.3333333333333333,
             "#9c179e"
            ],
            [
             0.4444444444444444,
             "#bd3786"
            ],
            [
             0.5555555555555556,
             "#d8576b"
            ],
            [
             0.6666666666666666,
             "#ed7953"
            ],
            [
             0.7777777777777778,
             "#fb9f3a"
            ],
            [
             0.8888888888888888,
             "#fdca26"
            ],
            [
             1,
             "#f0f921"
            ]
           ],
           "sequentialminus": [
            [
             0,
             "#0d0887"
            ],
            [
             0.1111111111111111,
             "#46039f"
            ],
            [
             0.2222222222222222,
             "#7201a8"
            ],
            [
             0.3333333333333333,
             "#9c179e"
            ],
            [
             0.4444444444444444,
             "#bd3786"
            ],
            [
             0.5555555555555556,
             "#d8576b"
            ],
            [
             0.6666666666666666,
             "#ed7953"
            ],
            [
             0.7777777777777778,
             "#fb9f3a"
            ],
            [
             0.8888888888888888,
             "#fdca26"
            ],
            [
             1,
             "#f0f921"
            ]
           ]
          },
          "colorway": [
           "#636efa",
           "#EF553B",
           "#00cc96",
           "#ab63fa",
           "#FFA15A",
           "#19d3f3",
           "#FF6692",
           "#B6E880",
           "#FF97FF",
           "#FECB52"
          ],
          "font": {
           "color": "#2a3f5f"
          },
          "geo": {
           "bgcolor": "white",
           "lakecolor": "white",
           "landcolor": "#E5ECF6",
           "showlakes": true,
           "showland": true,
           "subunitcolor": "white"
          },
          "hoverlabel": {
           "align": "left"
          },
          "hovermode": "closest",
          "mapbox": {
           "style": "light"
          },
          "paper_bgcolor": "white",
          "plot_bgcolor": "#E5ECF6",
          "polar": {
           "angularaxis": {
            "gridcolor": "white",
            "linecolor": "white",
            "ticks": ""
           },
           "bgcolor": "#E5ECF6",
           "radialaxis": {
            "gridcolor": "white",
            "linecolor": "white",
            "ticks": ""
           }
          },
          "scene": {
           "xaxis": {
            "backgroundcolor": "#E5ECF6",
            "gridcolor": "white",
            "gridwidth": 2,
            "linecolor": "white",
            "showbackground": true,
            "ticks": "",
            "zerolinecolor": "white"
           },
           "yaxis": {
            "backgroundcolor": "#E5ECF6",
            "gridcolor": "white",
            "gridwidth": 2,
            "linecolor": "white",
            "showbackground": true,
            "ticks": "",
            "zerolinecolor": "white"
           },
           "zaxis": {
            "backgroundcolor": "#E5ECF6",
            "gridcolor": "white",
            "gridwidth": 2,
            "linecolor": "white",
            "showbackground": true,
            "ticks": "",
            "zerolinecolor": "white"
           }
          },
          "shapedefaults": {
           "line": {
            "color": "#2a3f5f"
           }
          },
          "ternary": {
           "aaxis": {
            "gridcolor": "white",
            "linecolor": "white",
            "ticks": ""
           },
           "baxis": {
            "gridcolor": "white",
            "linecolor": "white",
            "ticks": ""
           },
           "bgcolor": "#E5ECF6",
           "caxis": {
            "gridcolor": "white",
            "linecolor": "white",
            "ticks": ""
           }
          },
          "title": {
           "x": 0.05
          },
          "xaxis": {
           "automargin": true,
           "gridcolor": "white",
           "linecolor": "white",
           "ticks": "",
           "title": {
            "standoff": 15
           },
           "zerolinecolor": "white",
           "zerolinewidth": 2
          },
          "yaxis": {
           "automargin": true,
           "gridcolor": "white",
           "linecolor": "white",
           "ticks": "",
           "title": {
            "standoff": 15
           },
           "zerolinecolor": "white",
           "zerolinewidth": 2
          }
         }
        },
        "title": {
         "text": "Durée de carrière NBA (en années)"
        },
        "xaxis": {
         "anchor": "y",
         "domain": [
          0,
          1
         ],
         "title": {
          "text": "career_length"
         }
        },
        "yaxis": {
         "anchor": "x",
         "domain": [
          0,
          1
         ],
         "title": {
          "text": "count"
         }
        }
       }
      }
     },
     "metadata": {},
     "output_type": "display_data"
    }
   ],
   "source": [
    "career_span = df.groupby('Player')['Year'].agg(['min', 'max'])\n",
    "career_span['career_length'] = career_span['max'] - career_span['min'] + 1\n",
    "career_span = career_span[career_span['career_length'] < 30]  # filtre sur valeurs extrêmes\n",
    "print(\"Durée de carrière moyenne :\", career_span['career_length'].mean())\n",
    "import plotly.express as px\n",
    "px.histogram(career_span, x='career_length', nbins=20, title=\"Durée de carrière NBA (en années)\")\n"
   ]
  },
  {
   "cell_type": "markdown",
   "id": "4e231836",
   "metadata": {},
   "source": [
    "## 🧓 Âge moyen des top scorers NBA"
   ]
  },
  {
   "cell_type": "code",
   "execution_count": 12,
   "id": "06b6cbbb",
   "metadata": {},
   "outputs": [
    {
     "data": {
      "text/html": [
       "<div>\n",
       "<style scoped>\n",
       "    .dataframe tbody tr th:only-of-type {\n",
       "        vertical-align: middle;\n",
       "    }\n",
       "\n",
       "    .dataframe tbody tr th {\n",
       "        vertical-align: top;\n",
       "    }\n",
       "\n",
       "    .dataframe thead th {\n",
       "        text-align: right;\n",
       "    }\n",
       "</style>\n",
       "<table border=\"1\" class=\"dataframe\">\n",
       "  <thead>\n",
       "    <tr style=\"text-align: right;\">\n",
       "      <th></th>\n",
       "      <th>Joueur</th>\n",
       "      <th>Âge moyen pendant les saisons top scorer</th>\n",
       "    </tr>\n",
       "  </thead>\n",
       "  <tbody>\n",
       "    <tr>\n",
       "      <th>0</th>\n",
       "      <td>Lenny Wilkens*</td>\n",
       "      <td>33.000000</td>\n",
       "    </tr>\n",
       "    <tr>\n",
       "      <th>1</th>\n",
       "      <td>Sam Jones*</td>\n",
       "      <td>32.500000</td>\n",
       "    </tr>\n",
       "    <tr>\n",
       "      <th>2</th>\n",
       "      <td>Kevin Willis</td>\n",
       "      <td>32.000000</td>\n",
       "    </tr>\n",
       "    <tr>\n",
       "      <th>3</th>\n",
       "      <td>Mike Newlin</td>\n",
       "      <td>31.500000</td>\n",
       "    </tr>\n",
       "    <tr>\n",
       "      <th>4</th>\n",
       "      <td>Dan Issel*</td>\n",
       "      <td>31.166667</td>\n",
       "    </tr>\n",
       "  </tbody>\n",
       "</table>\n",
       "</div>"
      ],
      "text/plain": [
       "           Joueur  Âge moyen pendant les saisons top scorer\n",
       "0  Lenny Wilkens*                                 33.000000\n",
       "1      Sam Jones*                                 32.500000\n",
       "2    Kevin Willis                                 32.000000\n",
       "3     Mike Newlin                                 31.500000\n",
       "4      Dan Issel*                                 31.166667"
      ]
     },
     "execution_count": 12,
     "metadata": {},
     "output_type": "execute_result"
    }
   ],
   "source": [
    "# Filtrer les joueurs dans le top 5 % des scores par match\n",
    "top_scorers = df[df['PTS_per_game'] > df['PTS_per_game'].quantile(0.95)]\n",
    "\n",
    "# Retirer les joueurs sans information d'âge\n",
    "top_scorers = top_scorers[top_scorers['Age'].notna()]\n",
    "\n",
    "# Calculer l'âge moyen de chaque joueur dans ce top\n",
    "top_ages = top_scorers.groupby('Player')['Age'].mean().sort_values(ascending=False).head(5).reset_index()\n",
    "\n",
    "# Renommer les colonnes\n",
    "top_ages.columns = ['Joueur', \"Âge moyen pendant les saisons top scorer\"]\n",
    "\n",
    "# Afficher le résultat\n",
    "top_ages\n"
   ]
  },
  {
   "cell_type": "markdown",
   "id": "1954106f",
   "metadata": {},
   "source": [
    "## 🏫 Top 5 des collèges des meilleurs joueurs NBA"
   ]
  },
  {
   "cell_type": "code",
   "execution_count": 14,
   "id": "0d5f775a",
   "metadata": {},
   "outputs": [
    {
     "name": "stdout",
     "output_type": "stream",
     "text": [
      "Index(['Unnamed: 0', 'Year', 'Player', 'Pos', 'Age', 'Tm', 'G', 'GS', 'MP',\n",
      "       'PER', 'TS%', '3PAr', 'FTr', 'ORB%', 'DRB%', 'TRB%', 'AST%', 'STL%',\n",
      "       'BLK%', 'TOV%', 'USG%', 'OWS', 'DWS', 'WS', 'WS/48', 'OBPM', 'DBPM',\n",
      "       'BPM', 'VORP', 'FG', 'FGA', 'FG%', '3P', '3PA', '3P%', '2P', '2PA',\n",
      "       '2P%', 'eFG%', 'FT', 'FTA', 'FT%', 'ORB', 'DRB', 'TRB', 'AST', 'STL',\n",
      "       'BLK', 'TOV', 'PF', 'PTS', 'PTS_per_game', 'Era', 'height', 'weight',\n",
      "       'collage', 'born', 'birth_city', 'birth_state', 'Pos_encoded'],\n",
      "      dtype='object')\n"
     ]
    }
   ],
   "source": [
    "print(df.columns)\n"
   ]
  },
  {
   "cell_type": "code",
   "execution_count": 15,
   "id": "323b2425",
   "metadata": {},
   "outputs": [
    {
     "data": {
      "application/vnd.plotly.v1+json": {
       "config": {
        "plotlyServerURL": "https://plot.ly"
       },
       "data": [
        {
         "alignmentgroup": "True",
         "hovertemplate": "College=%{x}<br>Nombre de top joueurs=%{y}<extra></extra>",
         "legendgroup": "",
         "marker": {
          "color": "#636efa",
          "pattern": {
           "shape": ""
          }
         },
         "name": "",
         "offsetgroup": "",
         "orientation": "v",
         "showlegend": false,
         "textposition": "auto",
         "type": "bar",
         "x": [
          "University of California, Los Angeles",
          "University of North Carolina",
          "University of Houston",
          "University of Kansas",
          "Louisiana State University"
         ],
         "xaxis": "x",
         "y": [
          62,
          59,
          36,
          33,
          32
         ],
         "yaxis": "y"
        }
       ],
       "layout": {
        "barmode": "relative",
        "legend": {
         "tracegroupgap": 0
        },
        "template": {
         "data": {
          "bar": [
           {
            "error_x": {
             "color": "#2a3f5f"
            },
            "error_y": {
             "color": "#2a3f5f"
            },
            "marker": {
             "line": {
              "color": "#E5ECF6",
              "width": 0.5
             },
             "pattern": {
              "fillmode": "overlay",
              "size": 10,
              "solidity": 0.2
             }
            },
            "type": "bar"
           }
          ],
          "barpolar": [
           {
            "marker": {
             "line": {
              "color": "#E5ECF6",
              "width": 0.5
             },
             "pattern": {
              "fillmode": "overlay",
              "size": 10,
              "solidity": 0.2
             }
            },
            "type": "barpolar"
           }
          ],
          "carpet": [
           {
            "aaxis": {
             "endlinecolor": "#2a3f5f",
             "gridcolor": "white",
             "linecolor": "white",
             "minorgridcolor": "white",
             "startlinecolor": "#2a3f5f"
            },
            "baxis": {
             "endlinecolor": "#2a3f5f",
             "gridcolor": "white",
             "linecolor": "white",
             "minorgridcolor": "white",
             "startlinecolor": "#2a3f5f"
            },
            "type": "carpet"
           }
          ],
          "choropleth": [
           {
            "colorbar": {
             "outlinewidth": 0,
             "ticks": ""
            },
            "type": "choropleth"
           }
          ],
          "contour": [
           {
            "colorbar": {
             "outlinewidth": 0,
             "ticks": ""
            },
            "colorscale": [
             [
              0,
              "#0d0887"
             ],
             [
              0.1111111111111111,
              "#46039f"
             ],
             [
              0.2222222222222222,
              "#7201a8"
             ],
             [
              0.3333333333333333,
              "#9c179e"
             ],
             [
              0.4444444444444444,
              "#bd3786"
             ],
             [
              0.5555555555555556,
              "#d8576b"
             ],
             [
              0.6666666666666666,
              "#ed7953"
             ],
             [
              0.7777777777777778,
              "#fb9f3a"
             ],
             [
              0.8888888888888888,
              "#fdca26"
             ],
             [
              1,
              "#f0f921"
             ]
            ],
            "type": "contour"
           }
          ],
          "contourcarpet": [
           {
            "colorbar": {
             "outlinewidth": 0,
             "ticks": ""
            },
            "type": "contourcarpet"
           }
          ],
          "heatmap": [
           {
            "colorbar": {
             "outlinewidth": 0,
             "ticks": ""
            },
            "colorscale": [
             [
              0,
              "#0d0887"
             ],
             [
              0.1111111111111111,
              "#46039f"
             ],
             [
              0.2222222222222222,
              "#7201a8"
             ],
             [
              0.3333333333333333,
              "#9c179e"
             ],
             [
              0.4444444444444444,
              "#bd3786"
             ],
             [
              0.5555555555555556,
              "#d8576b"
             ],
             [
              0.6666666666666666,
              "#ed7953"
             ],
             [
              0.7777777777777778,
              "#fb9f3a"
             ],
             [
              0.8888888888888888,
              "#fdca26"
             ],
             [
              1,
              "#f0f921"
             ]
            ],
            "type": "heatmap"
           }
          ],
          "heatmapgl": [
           {
            "colorbar": {
             "outlinewidth": 0,
             "ticks": ""
            },
            "colorscale": [
             [
              0,
              "#0d0887"
             ],
             [
              0.1111111111111111,
              "#46039f"
             ],
             [
              0.2222222222222222,
              "#7201a8"
             ],
             [
              0.3333333333333333,
              "#9c179e"
             ],
             [
              0.4444444444444444,
              "#bd3786"
             ],
             [
              0.5555555555555556,
              "#d8576b"
             ],
             [
              0.6666666666666666,
              "#ed7953"
             ],
             [
              0.7777777777777778,
              "#fb9f3a"
             ],
             [
              0.8888888888888888,
              "#fdca26"
             ],
             [
              1,
              "#f0f921"
             ]
            ],
            "type": "heatmapgl"
           }
          ],
          "histogram": [
           {
            "marker": {
             "pattern": {
              "fillmode": "overlay",
              "size": 10,
              "solidity": 0.2
             }
            },
            "type": "histogram"
           }
          ],
          "histogram2d": [
           {
            "colorbar": {
             "outlinewidth": 0,
             "ticks": ""
            },
            "colorscale": [
             [
              0,
              "#0d0887"
             ],
             [
              0.1111111111111111,
              "#46039f"
             ],
             [
              0.2222222222222222,
              "#7201a8"
             ],
             [
              0.3333333333333333,
              "#9c179e"
             ],
             [
              0.4444444444444444,
              "#bd3786"
             ],
             [
              0.5555555555555556,
              "#d8576b"
             ],
             [
              0.6666666666666666,
              "#ed7953"
             ],
             [
              0.7777777777777778,
              "#fb9f3a"
             ],
             [
              0.8888888888888888,
              "#fdca26"
             ],
             [
              1,
              "#f0f921"
             ]
            ],
            "type": "histogram2d"
           }
          ],
          "histogram2dcontour": [
           {
            "colorbar": {
             "outlinewidth": 0,
             "ticks": ""
            },
            "colorscale": [
             [
              0,
              "#0d0887"
             ],
             [
              0.1111111111111111,
              "#46039f"
             ],
             [
              0.2222222222222222,
              "#7201a8"
             ],
             [
              0.3333333333333333,
              "#9c179e"
             ],
             [
              0.4444444444444444,
              "#bd3786"
             ],
             [
              0.5555555555555556,
              "#d8576b"
             ],
             [
              0.6666666666666666,
              "#ed7953"
             ],
             [
              0.7777777777777778,
              "#fb9f3a"
             ],
             [
              0.8888888888888888,
              "#fdca26"
             ],
             [
              1,
              "#f0f921"
             ]
            ],
            "type": "histogram2dcontour"
           }
          ],
          "mesh3d": [
           {
            "colorbar": {
             "outlinewidth": 0,
             "ticks": ""
            },
            "type": "mesh3d"
           }
          ],
          "parcoords": [
           {
            "line": {
             "colorbar": {
              "outlinewidth": 0,
              "ticks": ""
             }
            },
            "type": "parcoords"
           }
          ],
          "pie": [
           {
            "automargin": true,
            "type": "pie"
           }
          ],
          "scatter": [
           {
            "fillpattern": {
             "fillmode": "overlay",
             "size": 10,
             "solidity": 0.2
            },
            "type": "scatter"
           }
          ],
          "scatter3d": [
           {
            "line": {
             "colorbar": {
              "outlinewidth": 0,
              "ticks": ""
             }
            },
            "marker": {
             "colorbar": {
              "outlinewidth": 0,
              "ticks": ""
             }
            },
            "type": "scatter3d"
           }
          ],
          "scattercarpet": [
           {
            "marker": {
             "colorbar": {
              "outlinewidth": 0,
              "ticks": ""
             }
            },
            "type": "scattercarpet"
           }
          ],
          "scattergeo": [
           {
            "marker": {
             "colorbar": {
              "outlinewidth": 0,
              "ticks": ""
             }
            },
            "type": "scattergeo"
           }
          ],
          "scattergl": [
           {
            "marker": {
             "colorbar": {
              "outlinewidth": 0,
              "ticks": ""
             }
            },
            "type": "scattergl"
           }
          ],
          "scattermapbox": [
           {
            "marker": {
             "colorbar": {
              "outlinewidth": 0,
              "ticks": ""
             }
            },
            "type": "scattermapbox"
           }
          ],
          "scatterpolar": [
           {
            "marker": {
             "colorbar": {
              "outlinewidth": 0,
              "ticks": ""
             }
            },
            "type": "scatterpolar"
           }
          ],
          "scatterpolargl": [
           {
            "marker": {
             "colorbar": {
              "outlinewidth": 0,
              "ticks": ""
             }
            },
            "type": "scatterpolargl"
           }
          ],
          "scatterternary": [
           {
            "marker": {
             "colorbar": {
              "outlinewidth": 0,
              "ticks": ""
             }
            },
            "type": "scatterternary"
           }
          ],
          "surface": [
           {
            "colorbar": {
             "outlinewidth": 0,
             "ticks": ""
            },
            "colorscale": [
             [
              0,
              "#0d0887"
             ],
             [
              0.1111111111111111,
              "#46039f"
             ],
             [
              0.2222222222222222,
              "#7201a8"
             ],
             [
              0.3333333333333333,
              "#9c179e"
             ],
             [
              0.4444444444444444,
              "#bd3786"
             ],
             [
              0.5555555555555556,
              "#d8576b"
             ],
             [
              0.6666666666666666,
              "#ed7953"
             ],
             [
              0.7777777777777778,
              "#fb9f3a"
             ],
             [
              0.8888888888888888,
              "#fdca26"
             ],
             [
              1,
              "#f0f921"
             ]
            ],
            "type": "surface"
           }
          ],
          "table": [
           {
            "cells": {
             "fill": {
              "color": "#EBF0F8"
             },
             "line": {
              "color": "white"
             }
            },
            "header": {
             "fill": {
              "color": "#C8D4E3"
             },
             "line": {
              "color": "white"
             }
            },
            "type": "table"
           }
          ]
         },
         "layout": {
          "annotationdefaults": {
           "arrowcolor": "#2a3f5f",
           "arrowhead": 0,
           "arrowwidth": 1
          },
          "autotypenumbers": "strict",
          "coloraxis": {
           "colorbar": {
            "outlinewidth": 0,
            "ticks": ""
           }
          },
          "colorscale": {
           "diverging": [
            [
             0,
             "#8e0152"
            ],
            [
             0.1,
             "#c51b7d"
            ],
            [
             0.2,
             "#de77ae"
            ],
            [
             0.3,
             "#f1b6da"
            ],
            [
             0.4,
             "#fde0ef"
            ],
            [
             0.5,
             "#f7f7f7"
            ],
            [
             0.6,
             "#e6f5d0"
            ],
            [
             0.7,
             "#b8e186"
            ],
            [
             0.8,
             "#7fbc41"
            ],
            [
             0.9,
             "#4d9221"
            ],
            [
             1,
             "#276419"
            ]
           ],
           "sequential": [
            [
             0,
             "#0d0887"
            ],
            [
             0.1111111111111111,
             "#46039f"
            ],
            [
             0.2222222222222222,
             "#7201a8"
            ],
            [
             0.3333333333333333,
             "#9c179e"
            ],
            [
             0.4444444444444444,
             "#bd3786"
            ],
            [
             0.5555555555555556,
             "#d8576b"
            ],
            [
             0.6666666666666666,
             "#ed7953"
            ],
            [
             0.7777777777777778,
             "#fb9f3a"
            ],
            [
             0.8888888888888888,
             "#fdca26"
            ],
            [
             1,
             "#f0f921"
            ]
           ],
           "sequentialminus": [
            [
             0,
             "#0d0887"
            ],
            [
             0.1111111111111111,
             "#46039f"
            ],
            [
             0.2222222222222222,
             "#7201a8"
            ],
            [
             0.3333333333333333,
             "#9c179e"
            ],
            [
             0.4444444444444444,
             "#bd3786"
            ],
            [
             0.5555555555555556,
             "#d8576b"
            ],
            [
             0.6666666666666666,
             "#ed7953"
            ],
            [
             0.7777777777777778,
             "#fb9f3a"
            ],
            [
             0.8888888888888888,
             "#fdca26"
            ],
            [
             1,
             "#f0f921"
            ]
           ]
          },
          "colorway": [
           "#636efa",
           "#EF553B",
           "#00cc96",
           "#ab63fa",
           "#FFA15A",
           "#19d3f3",
           "#FF6692",
           "#B6E880",
           "#FF97FF",
           "#FECB52"
          ],
          "font": {
           "color": "#2a3f5f"
          },
          "geo": {
           "bgcolor": "white",
           "lakecolor": "white",
           "landcolor": "#E5ECF6",
           "showlakes": true,
           "showland": true,
           "subunitcolor": "white"
          },
          "hoverlabel": {
           "align": "left"
          },
          "hovermode": "closest",
          "mapbox": {
           "style": "light"
          },
          "paper_bgcolor": "white",
          "plot_bgcolor": "#E5ECF6",
          "polar": {
           "angularaxis": {
            "gridcolor": "white",
            "linecolor": "white",
            "ticks": ""
           },
           "bgcolor": "#E5ECF6",
           "radialaxis": {
            "gridcolor": "white",
            "linecolor": "white",
            "ticks": ""
           }
          },
          "scene": {
           "xaxis": {
            "backgroundcolor": "#E5ECF6",
            "gridcolor": "white",
            "gridwidth": 2,
            "linecolor": "white",
            "showbackground": true,
            "ticks": "",
            "zerolinecolor": "white"
           },
           "yaxis": {
            "backgroundcolor": "#E5ECF6",
            "gridcolor": "white",
            "gridwidth": 2,
            "linecolor": "white",
            "showbackground": true,
            "ticks": "",
            "zerolinecolor": "white"
           },
           "zaxis": {
            "backgroundcolor": "#E5ECF6",
            "gridcolor": "white",
            "gridwidth": 2,
            "linecolor": "white",
            "showbackground": true,
            "ticks": "",
            "zerolinecolor": "white"
           }
          },
          "shapedefaults": {
           "line": {
            "color": "#2a3f5f"
           }
          },
          "ternary": {
           "aaxis": {
            "gridcolor": "white",
            "linecolor": "white",
            "ticks": ""
           },
           "baxis": {
            "gridcolor": "white",
            "linecolor": "white",
            "ticks": ""
           },
           "bgcolor": "#E5ECF6",
           "caxis": {
            "gridcolor": "white",
            "linecolor": "white",
            "ticks": ""
           }
          },
          "title": {
           "x": 0.05
          },
          "xaxis": {
           "automargin": true,
           "gridcolor": "white",
           "linecolor": "white",
           "ticks": "",
           "title": {
            "standoff": 15
           },
           "zerolinecolor": "white",
           "zerolinewidth": 2
          },
          "yaxis": {
           "automargin": true,
           "gridcolor": "white",
           "linecolor": "white",
           "ticks": "",
           "title": {
            "standoff": 15
           },
           "zerolinecolor": "white",
           "zerolinewidth": 2
          }
         }
        },
        "title": {
         "text": "Top 5 collèges des meilleurs joueurs NBA"
        },
        "xaxis": {
         "anchor": "y",
         "domain": [
          0,
          1
         ],
         "title": {
          "text": "College"
         }
        },
        "yaxis": {
         "anchor": "x",
         "domain": [
          0,
          1
         ],
         "title": {
          "text": "Nombre de top joueurs"
         }
        }
       }
      }
     },
     "metadata": {},
     "output_type": "display_data"
    }
   ],
   "source": [
    "top_players = df[df['PTS_per_game'] > df['PTS_per_game'].quantile(0.95)]\n",
    "top_players = top_players[top_players['collage'].notna()]\n",
    "\n",
    "top_colleges = top_players['collage'].value_counts().head(5)\n",
    "top_colleges_df = top_colleges.reset_index()\n",
    "top_colleges_df.columns = ['College', 'Nombre de top joueurs']\n",
    "\n",
    "import plotly.express as px\n",
    "px.bar(top_colleges_df, x='College', y='Nombre de top joueurs',\n",
    "       title=\"Top 5 collèges des meilleurs joueurs NBA\")\n"
   ]
  },
  {
   "cell_type": "markdown",
   "metadata": {},
   "source": [
    "## 4. 🤖 Modélisation"
   ]
  },
  {
   "cell_type": "code",
   "execution_count": 7,
   "id": "09b6e84f",
   "metadata": {},
   "outputs": [
    {
     "name": "stdout",
     "output_type": "stream",
     "text": [
      "✅ R2 score : 0.863041799687897\n"
     ]
    }
   ],
   "source": [
    "# On encode la position (Pos) en valeur numérique\n",
    "df['Pos_encoded'] = df['Pos'].astype('category').cat.codes\n",
    "\n",
    "# Sélection des variables explicatives\n",
    "features = ['Age', 'height', 'weight', 'MP', 'FGA', 'FTA', '3PA', 'Pos_encoded']\n",
    "\n",
    "# On ne garde que les lignes sans valeurs manquantes\n",
    "model_data = df[features + ['PTS_per_game']].dropna()\n",
    "\n",
    "# Définir X (features) et y (target)\n",
    "X = model_data[features]\n",
    "y = model_data['PTS_per_game']\n",
    "\n",
    "# Séparation en train/test\n",
    "X_train, X_test, y_train, y_test = train_test_split(X, y, test_size=0.2, random_state=42)\n",
    "\n",
    "# Entraînement du modèle\n",
    "model = LinearRegression().fit(X_train, y_train)\n",
    "\n",
    "# Prédictions\n",
    "y_pred = model.predict(X_test)\n",
    "\n",
    "# Évaluation du modèle\n",
    "print(\"✅ R2 score :\", r2_score(y_test, y_pred))\n"
   ]
  },
  {
   "cell_type": "code",
   "execution_count": 8,
   "id": "2268e4f6",
   "metadata": {},
   "outputs": [
    {
     "name": "stdout",
     "output_type": "stream",
     "text": [
      "      Variable  Coefficient\n",
      "0          Age     0.059487\n",
      "7  Pos_encoded     0.029103\n",
      "5          FTA     0.014312\n",
      "4          FGA     0.014265\n",
      "2       weight     0.010684\n",
      "6          3PA     0.003173\n",
      "3           MP    -0.002242\n",
      "1       height    -0.007663\n"
     ]
    }
   ],
   "source": [
    "# Affichage des coefficients\n",
    "coef_df = pd.DataFrame({\n",
    "    'Variable': features,\n",
    "    'Coefficient': model.coef_\n",
    "}).sort_values(by='Coefficient', ascending=False)\n",
    "\n",
    "print(coef_df)\n"
   ]
  },
  {
   "cell_type": "markdown",
   "id": "ce457b63",
   "metadata": {},
   "source": [
    "## ✅ Conclusion\n",
    "\n",
    "- Le scoring a évolué fortement depuis les années 50.\n",
    "- Les postes influencent significativement les performances.\n",
    "- Le modèle de régression obtient un R² > 0.86 avec des variables pertinentes.\n",
    "- Le projet met en lumière l'importance de l'analyse temporelle et contextuelle dans le sport.\n",
    "\n",
    "Un dashboard a été déployé pour une exploration interactive."
   ]
  }
 ],
 "metadata": {
  "kernelspec": {
   "display_name": "Python 3",
   "language": "python",
   "name": "python3"
  },
  "language_info": {
   "codemirror_mode": {
    "name": "ipython",
    "version": 3
   },
   "file_extension": ".py",
   "mimetype": "text/x-python",
   "name": "python",
   "nbconvert_exporter": "python",
   "pygments_lexer": "ipython3",
   "version": "3.12.10"
  }
 },
 "nbformat": 4,
 "nbformat_minor": 5
}
